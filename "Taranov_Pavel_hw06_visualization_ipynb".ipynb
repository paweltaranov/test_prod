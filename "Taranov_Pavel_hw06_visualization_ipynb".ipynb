{
  "nbformat": 4,
  "nbformat_minor": 0,
  "metadata": {
    "kernelspec": {
      "display_name": "Python 3",
      "language": "python",
      "name": "python3"
    },
    "language_info": {
      "codemirror_mode": {
        "name": "ipython",
        "version": 3
      },
      "file_extension": ".py",
      "mimetype": "text/x-python",
      "name": "python",
      "nbconvert_exporter": "python",
      "pygments_lexer": "ipython3",
      "version": "3.8.7"
    },
    "colab": {
      "provenance": [],
      "collapsed_sections": [],
      "include_colab_link": true
    }
  },
  "cells": [
    {
      "cell_type": "markdown",
      "metadata": {
        "id": "view-in-github",
        "colab_type": "text"
      },
      "source": [
        "<a href=\"https://colab.research.google.com/github/paweltaranov/test_prod/blob/master/%22Taranov_Pavel_hw06_visualization_ipynb%22.ipynb\" target=\"_parent\"><img src=\"https://colab.research.google.com/assets/colab-badge.svg\" alt=\"Open In Colab\"/></a>"
      ]
    },
    {
      "cell_type": "markdown",
      "source": [
        "# Домашнее задание 6. Визуализация данных"
      ],
      "metadata": {
        "id": "B7TpktH--KyR"
      }
    },
    {
      "cell_type": "markdown",
      "metadata": {
        "id": "lAwiybQ1dKsp"
      },
      "source": [
        "Вся работа состоит из трех больших блоков:\n",
        "\n",
        "- Базовые операции с датафреймами\n",
        "- Вычисление новых признаков и группировка данных\n",
        "- Визуализация данных"
      ]
    },
    {
      "cell_type": "markdown",
      "source": [
        "**Авторские подсказки**\n",
        "\n",
        "Во многих заданиях вам даны авторские подсказки - результат выполнения авторского кода для решения этой задачи. Они вам даны просто для понимания, в правильном ли направлении вы идете. Формат вывода вашего кода не обязательно должен совпадать с форматом в подсказках. Ячейки с ответом изменять не рекомендуется - проводите эксперименты в новых.\n"
      ],
      "metadata": {
        "id": "7ZQsh6Sicp28"
      }
    },
    {
      "cell_type": "markdown",
      "metadata": {
        "id": "C8oqsuokdKsw"
      },
      "source": [
        "# Описание задачи"
      ]
    },
    {
      "cell_type": "markdown",
      "metadata": {
        "id": "S2bpR0JFdKsw"
      },
      "source": [
        "**Задача кредитного скоринга** - одна из наиболее популярных областей в банковской индустрии, где применяется анализ данных"
      ]
    },
    {
      "cell_type": "markdown",
      "source": [
        "Признаки клиентов банка:\n",
        "\n",
        "- ```age``` - возраст (вещественный)\n",
        "- ```MonthlyIncome``` - месячный доход (вещественный)\n",
        "- ```DebtRatio``` - Debt-to-income Ratio (вещественный)\n",
        "- ```NumberOfOpenCreditLinesAndLoans``` - число заемов и кредитных линий\n",
        "- ```NumberRealEstateLoansOrLines``` - число ипотек и заемов, связанных с недвижимостью (натуральное число)\n",
        "- ```NumberOfDependents``` - число членов семьи, которых содержит клиент, исключая самого клиента (натуральное число)\n",
        "- ```defaulted``` - выплачен или не выплачен в конечном итоге кредит заемщиком\n",
        "\n",
        "В этой работе мы будем исследовать данные о заемщиках и научимся отвечать на вопросы о предоставленных нам данных."
      ],
      "metadata": {
        "id": "tzBEfSvcdBLb"
      }
    },
    {
      "cell_type": "markdown",
      "metadata": {
        "id": "AOZIK42cdKsx"
      },
      "source": [
        "# Базовые операции с датафреймами"
      ]
    },
    {
      "cell_type": "markdown",
      "metadata": {
        "id": "mTo-0lPcdKsy"
      },
      "source": [
        "## Задача 1"
      ]
    },
    {
      "cell_type": "markdown",
      "source": [
        "Скачайте набор данных:"
      ],
      "metadata": {
        "id": "3LVFD2v1dKYC"
      }
    },
    {
      "cell_type": "code",
      "source": [
        "!gdown 1Y327Wvlw1GVY1SSTJ4g6DuTujCFc5TsH"
      ],
      "metadata": {
        "id": "-UnkK0S5j5DE",
        "colab": {
          "base_uri": "https://localhost:8080/"
        },
        "outputId": "2ea295b5-3c8c-474c-9c95-869f5ed5bd7a"
      },
      "execution_count": null,
      "outputs": [
        {
          "output_type": "stream",
          "name": "stdout",
          "text": [
            "Downloading...\n",
            "From: https://drive.google.com/uc?id=1Y327Wvlw1GVY1SSTJ4g6DuTujCFc5TsH\n",
            "To: /content/credit_data.csv\n",
            "\r  0% 0.00/4.55M [00:00<?, ?B/s]\r100% 4.55M/4.55M [00:00<00:00, 210MB/s]\n"
          ]
        }
      ]
    },
    {
      "cell_type": "markdown",
      "metadata": {
        "id": "Q0B5b3KEdKsy"
      },
      "source": [
        "Считайте файл ```credit_data.csv``` в переменную ```df```:"
      ]
    },
    {
      "cell_type": "code",
      "metadata": {
        "id": "HbGK5vY1dKsz"
      },
      "source": [
        "import pandas as pd"
      ],
      "execution_count": null,
      "outputs": []
    },
    {
      "cell_type": "code",
      "metadata": {
        "id": "9_C1hDfQdKs1",
        "colab": {
          "base_uri": "https://localhost:8080/",
          "height": 270
        },
        "outputId": "143d25ae-77c1-46c2-e24a-026a44d2676e"
      },
      "source": [
        "df = pd.read_csv('/content/credit_data.csv')\n",
        "df.head()"
      ],
      "execution_count": null,
      "outputs": [
        {
          "output_type": "execute_result",
          "data": {
            "text/plain": [
              "   defaulted  age  DebtRatio  MonthlyIncome  NumberOfOpenCreditLinesAndLoans  \\\n",
              "0          1   45   0.802982         9120.0                               13   \n",
              "1          0   40   0.121876         2600.0                                4   \n",
              "2          0   38   0.085113         3042.0                                2   \n",
              "3          0   30   0.036050         3300.0                                5   \n",
              "4          0   49   0.024926        63588.0                                7   \n",
              "\n",
              "   NumberRealEstateLoansOrLines  NumberOfDependents  \n",
              "0                             6                 2.0  \n",
              "1                             0                 1.0  \n",
              "2                             0                 0.0  \n",
              "3                             0                 0.0  \n",
              "4                             1                 0.0  "
            ],
            "text/html": [
              "\n",
              "  <div id=\"df-9e8a0cce-edca-4fd2-9e69-8d71920a4b9d\">\n",
              "    <div class=\"colab-df-container\">\n",
              "      <div>\n",
              "<style scoped>\n",
              "    .dataframe tbody tr th:only-of-type {\n",
              "        vertical-align: middle;\n",
              "    }\n",
              "\n",
              "    .dataframe tbody tr th {\n",
              "        vertical-align: top;\n",
              "    }\n",
              "\n",
              "    .dataframe thead th {\n",
              "        text-align: right;\n",
              "    }\n",
              "</style>\n",
              "<table border=\"1\" class=\"dataframe\">\n",
              "  <thead>\n",
              "    <tr style=\"text-align: right;\">\n",
              "      <th></th>\n",
              "      <th>defaulted</th>\n",
              "      <th>age</th>\n",
              "      <th>DebtRatio</th>\n",
              "      <th>MonthlyIncome</th>\n",
              "      <th>NumberOfOpenCreditLinesAndLoans</th>\n",
              "      <th>NumberRealEstateLoansOrLines</th>\n",
              "      <th>NumberOfDependents</th>\n",
              "    </tr>\n",
              "  </thead>\n",
              "  <tbody>\n",
              "    <tr>\n",
              "      <th>0</th>\n",
              "      <td>1</td>\n",
              "      <td>45</td>\n",
              "      <td>0.802982</td>\n",
              "      <td>9120.0</td>\n",
              "      <td>13</td>\n",
              "      <td>6</td>\n",
              "      <td>2.0</td>\n",
              "    </tr>\n",
              "    <tr>\n",
              "      <th>1</th>\n",
              "      <td>0</td>\n",
              "      <td>40</td>\n",
              "      <td>0.121876</td>\n",
              "      <td>2600.0</td>\n",
              "      <td>4</td>\n",
              "      <td>0</td>\n",
              "      <td>1.0</td>\n",
              "    </tr>\n",
              "    <tr>\n",
              "      <th>2</th>\n",
              "      <td>0</td>\n",
              "      <td>38</td>\n",
              "      <td>0.085113</td>\n",
              "      <td>3042.0</td>\n",
              "      <td>2</td>\n",
              "      <td>0</td>\n",
              "      <td>0.0</td>\n",
              "    </tr>\n",
              "    <tr>\n",
              "      <th>3</th>\n",
              "      <td>0</td>\n",
              "      <td>30</td>\n",
              "      <td>0.036050</td>\n",
              "      <td>3300.0</td>\n",
              "      <td>5</td>\n",
              "      <td>0</td>\n",
              "      <td>0.0</td>\n",
              "    </tr>\n",
              "    <tr>\n",
              "      <th>4</th>\n",
              "      <td>0</td>\n",
              "      <td>49</td>\n",
              "      <td>0.024926</td>\n",
              "      <td>63588.0</td>\n",
              "      <td>7</td>\n",
              "      <td>1</td>\n",
              "      <td>0.0</td>\n",
              "    </tr>\n",
              "  </tbody>\n",
              "</table>\n",
              "</div>\n",
              "      <button class=\"colab-df-convert\" onclick=\"convertToInteractive('df-9e8a0cce-edca-4fd2-9e69-8d71920a4b9d')\"\n",
              "              title=\"Convert this dataframe to an interactive table.\"\n",
              "              style=\"display:none;\">\n",
              "        \n",
              "  <svg xmlns=\"http://www.w3.org/2000/svg\" height=\"24px\"viewBox=\"0 0 24 24\"\n",
              "       width=\"24px\">\n",
              "    <path d=\"M0 0h24v24H0V0z\" fill=\"none\"/>\n",
              "    <path d=\"M18.56 5.44l.94 2.06.94-2.06 2.06-.94-2.06-.94-.94-2.06-.94 2.06-2.06.94zm-11 1L8.5 8.5l.94-2.06 2.06-.94-2.06-.94L8.5 2.5l-.94 2.06-2.06.94zm10 10l.94 2.06.94-2.06 2.06-.94-2.06-.94-.94-2.06-.94 2.06-2.06.94z\"/><path d=\"M17.41 7.96l-1.37-1.37c-.4-.4-.92-.59-1.43-.59-.52 0-1.04.2-1.43.59L10.3 9.45l-7.72 7.72c-.78.78-.78 2.05 0 2.83L4 21.41c.39.39.9.59 1.41.59.51 0 1.02-.2 1.41-.59l7.78-7.78 2.81-2.81c.8-.78.8-2.07 0-2.86zM5.41 20L4 18.59l7.72-7.72 1.47 1.35L5.41 20z\"/>\n",
              "  </svg>\n",
              "      </button>\n",
              "      \n",
              "  <style>\n",
              "    .colab-df-container {\n",
              "      display:flex;\n",
              "      flex-wrap:wrap;\n",
              "      gap: 12px;\n",
              "    }\n",
              "\n",
              "    .colab-df-convert {\n",
              "      background-color: #E8F0FE;\n",
              "      border: none;\n",
              "      border-radius: 50%;\n",
              "      cursor: pointer;\n",
              "      display: none;\n",
              "      fill: #1967D2;\n",
              "      height: 32px;\n",
              "      padding: 0 0 0 0;\n",
              "      width: 32px;\n",
              "    }\n",
              "\n",
              "    .colab-df-convert:hover {\n",
              "      background-color: #E2EBFA;\n",
              "      box-shadow: 0px 1px 2px rgba(60, 64, 67, 0.3), 0px 1px 3px 1px rgba(60, 64, 67, 0.15);\n",
              "      fill: #174EA6;\n",
              "    }\n",
              "\n",
              "    [theme=dark] .colab-df-convert {\n",
              "      background-color: #3B4455;\n",
              "      fill: #D2E3FC;\n",
              "    }\n",
              "\n",
              "    [theme=dark] .colab-df-convert:hover {\n",
              "      background-color: #434B5C;\n",
              "      box-shadow: 0px 1px 3px 1px rgba(0, 0, 0, 0.15);\n",
              "      filter: drop-shadow(0px 1px 2px rgba(0, 0, 0, 0.3));\n",
              "      fill: #FFFFFF;\n",
              "    }\n",
              "  </style>\n",
              "\n",
              "      <script>\n",
              "        const buttonEl =\n",
              "          document.querySelector('#df-9e8a0cce-edca-4fd2-9e69-8d71920a4b9d button.colab-df-convert');\n",
              "        buttonEl.style.display =\n",
              "          google.colab.kernel.accessAllowed ? 'block' : 'none';\n",
              "\n",
              "        async function convertToInteractive(key) {\n",
              "          const element = document.querySelector('#df-9e8a0cce-edca-4fd2-9e69-8d71920a4b9d');\n",
              "          const dataTable =\n",
              "            await google.colab.kernel.invokeFunction('convertToInteractive',\n",
              "                                                     [key], {});\n",
              "          if (!dataTable) return;\n",
              "\n",
              "          const docLinkHtml = 'Like what you see? Visit the ' +\n",
              "            '<a target=\"_blank\" href=https://colab.research.google.com/notebooks/data_table.ipynb>data table notebook</a>'\n",
              "            + ' to learn more about interactive tables.';\n",
              "          element.innerHTML = '';\n",
              "          dataTable['output_type'] = 'display_data';\n",
              "          await google.colab.output.renderOutput(dataTable, element);\n",
              "          const docLink = document.createElement('div');\n",
              "          docLink.innerHTML = docLinkHtml;\n",
              "          element.appendChild(docLink);\n",
              "        }\n",
              "      </script>\n",
              "    </div>\n",
              "  </div>\n",
              "  "
            ]
          },
          "metadata": {},
          "execution_count": 169
        }
      ]
    },
    {
      "cell_type": "markdown",
      "metadata": {
        "id": "6-O-oItxdKs1"
      },
      "source": [
        "Определите размер таблицы:"
      ]
    },
    {
      "cell_type": "code",
      "metadata": {
        "id": "H5ifn6UwdKs2",
        "colab": {
          "base_uri": "https://localhost:8080/"
        },
        "outputId": "9a80b616-6a18-44fe-809e-0c9a666e55f3"
      },
      "source": [
        "df.shape"
      ],
      "execution_count": null,
      "outputs": [
        {
          "output_type": "execute_result",
          "data": {
            "text/plain": [
              "(150000, 7)"
            ]
          },
          "metadata": {},
          "execution_count": 170
        }
      ]
    },
    {
      "cell_type": "markdown",
      "source": [
        "```(150000, 7)```"
      ],
      "metadata": {
        "id": "gbZCbMVKX_PE"
      }
    },
    {
      "cell_type": "markdown",
      "metadata": {
        "id": "OlUIqfSTdKs3"
      },
      "source": [
        "Посмотрите первые пять строк:"
      ]
    },
    {
      "cell_type": "code",
      "metadata": {
        "id": "wWJXhdxcdKs4",
        "colab": {
          "base_uri": "https://localhost:8080/",
          "height": 270
        },
        "outputId": "87e0404b-b8ef-4220-8159-6b9fccfda62e"
      },
      "source": [
        "df.head()"
      ],
      "execution_count": null,
      "outputs": [
        {
          "output_type": "execute_result",
          "data": {
            "text/plain": [
              "   defaulted  age  DebtRatio  MonthlyIncome  NumberOfOpenCreditLinesAndLoans  \\\n",
              "0          1   45   0.802982         9120.0                               13   \n",
              "1          0   40   0.121876         2600.0                                4   \n",
              "2          0   38   0.085113         3042.0                                2   \n",
              "3          0   30   0.036050         3300.0                                5   \n",
              "4          0   49   0.024926        63588.0                                7   \n",
              "\n",
              "   NumberRealEstateLoansOrLines  NumberOfDependents  \n",
              "0                             6                 2.0  \n",
              "1                             0                 1.0  \n",
              "2                             0                 0.0  \n",
              "3                             0                 0.0  \n",
              "4                             1                 0.0  "
            ],
            "text/html": [
              "\n",
              "  <div id=\"df-d443b52f-b291-445c-8953-8fd2ca40969b\">\n",
              "    <div class=\"colab-df-container\">\n",
              "      <div>\n",
              "<style scoped>\n",
              "    .dataframe tbody tr th:only-of-type {\n",
              "        vertical-align: middle;\n",
              "    }\n",
              "\n",
              "    .dataframe tbody tr th {\n",
              "        vertical-align: top;\n",
              "    }\n",
              "\n",
              "    .dataframe thead th {\n",
              "        text-align: right;\n",
              "    }\n",
              "</style>\n",
              "<table border=\"1\" class=\"dataframe\">\n",
              "  <thead>\n",
              "    <tr style=\"text-align: right;\">\n",
              "      <th></th>\n",
              "      <th>defaulted</th>\n",
              "      <th>age</th>\n",
              "      <th>DebtRatio</th>\n",
              "      <th>MonthlyIncome</th>\n",
              "      <th>NumberOfOpenCreditLinesAndLoans</th>\n",
              "      <th>NumberRealEstateLoansOrLines</th>\n",
              "      <th>NumberOfDependents</th>\n",
              "    </tr>\n",
              "  </thead>\n",
              "  <tbody>\n",
              "    <tr>\n",
              "      <th>0</th>\n",
              "      <td>1</td>\n",
              "      <td>45</td>\n",
              "      <td>0.802982</td>\n",
              "      <td>9120.0</td>\n",
              "      <td>13</td>\n",
              "      <td>6</td>\n",
              "      <td>2.0</td>\n",
              "    </tr>\n",
              "    <tr>\n",
              "      <th>1</th>\n",
              "      <td>0</td>\n",
              "      <td>40</td>\n",
              "      <td>0.121876</td>\n",
              "      <td>2600.0</td>\n",
              "      <td>4</td>\n",
              "      <td>0</td>\n",
              "      <td>1.0</td>\n",
              "    </tr>\n",
              "    <tr>\n",
              "      <th>2</th>\n",
              "      <td>0</td>\n",
              "      <td>38</td>\n",
              "      <td>0.085113</td>\n",
              "      <td>3042.0</td>\n",
              "      <td>2</td>\n",
              "      <td>0</td>\n",
              "      <td>0.0</td>\n",
              "    </tr>\n",
              "    <tr>\n",
              "      <th>3</th>\n",
              "      <td>0</td>\n",
              "      <td>30</td>\n",
              "      <td>0.036050</td>\n",
              "      <td>3300.0</td>\n",
              "      <td>5</td>\n",
              "      <td>0</td>\n",
              "      <td>0.0</td>\n",
              "    </tr>\n",
              "    <tr>\n",
              "      <th>4</th>\n",
              "      <td>0</td>\n",
              "      <td>49</td>\n",
              "      <td>0.024926</td>\n",
              "      <td>63588.0</td>\n",
              "      <td>7</td>\n",
              "      <td>1</td>\n",
              "      <td>0.0</td>\n",
              "    </tr>\n",
              "  </tbody>\n",
              "</table>\n",
              "</div>\n",
              "      <button class=\"colab-df-convert\" onclick=\"convertToInteractive('df-d443b52f-b291-445c-8953-8fd2ca40969b')\"\n",
              "              title=\"Convert this dataframe to an interactive table.\"\n",
              "              style=\"display:none;\">\n",
              "        \n",
              "  <svg xmlns=\"http://www.w3.org/2000/svg\" height=\"24px\"viewBox=\"0 0 24 24\"\n",
              "       width=\"24px\">\n",
              "    <path d=\"M0 0h24v24H0V0z\" fill=\"none\"/>\n",
              "    <path d=\"M18.56 5.44l.94 2.06.94-2.06 2.06-.94-2.06-.94-.94-2.06-.94 2.06-2.06.94zm-11 1L8.5 8.5l.94-2.06 2.06-.94-2.06-.94L8.5 2.5l-.94 2.06-2.06.94zm10 10l.94 2.06.94-2.06 2.06-.94-2.06-.94-.94-2.06-.94 2.06-2.06.94z\"/><path d=\"M17.41 7.96l-1.37-1.37c-.4-.4-.92-.59-1.43-.59-.52 0-1.04.2-1.43.59L10.3 9.45l-7.72 7.72c-.78.78-.78 2.05 0 2.83L4 21.41c.39.39.9.59 1.41.59.51 0 1.02-.2 1.41-.59l7.78-7.78 2.81-2.81c.8-.78.8-2.07 0-2.86zM5.41 20L4 18.59l7.72-7.72 1.47 1.35L5.41 20z\"/>\n",
              "  </svg>\n",
              "      </button>\n",
              "      \n",
              "  <style>\n",
              "    .colab-df-container {\n",
              "      display:flex;\n",
              "      flex-wrap:wrap;\n",
              "      gap: 12px;\n",
              "    }\n",
              "\n",
              "    .colab-df-convert {\n",
              "      background-color: #E8F0FE;\n",
              "      border: none;\n",
              "      border-radius: 50%;\n",
              "      cursor: pointer;\n",
              "      display: none;\n",
              "      fill: #1967D2;\n",
              "      height: 32px;\n",
              "      padding: 0 0 0 0;\n",
              "      width: 32px;\n",
              "    }\n",
              "\n",
              "    .colab-df-convert:hover {\n",
              "      background-color: #E2EBFA;\n",
              "      box-shadow: 0px 1px 2px rgba(60, 64, 67, 0.3), 0px 1px 3px 1px rgba(60, 64, 67, 0.15);\n",
              "      fill: #174EA6;\n",
              "    }\n",
              "\n",
              "    [theme=dark] .colab-df-convert {\n",
              "      background-color: #3B4455;\n",
              "      fill: #D2E3FC;\n",
              "    }\n",
              "\n",
              "    [theme=dark] .colab-df-convert:hover {\n",
              "      background-color: #434B5C;\n",
              "      box-shadow: 0px 1px 3px 1px rgba(0, 0, 0, 0.15);\n",
              "      filter: drop-shadow(0px 1px 2px rgba(0, 0, 0, 0.3));\n",
              "      fill: #FFFFFF;\n",
              "    }\n",
              "  </style>\n",
              "\n",
              "      <script>\n",
              "        const buttonEl =\n",
              "          document.querySelector('#df-d443b52f-b291-445c-8953-8fd2ca40969b button.colab-df-convert');\n",
              "        buttonEl.style.display =\n",
              "          google.colab.kernel.accessAllowed ? 'block' : 'none';\n",
              "\n",
              "        async function convertToInteractive(key) {\n",
              "          const element = document.querySelector('#df-d443b52f-b291-445c-8953-8fd2ca40969b');\n",
              "          const dataTable =\n",
              "            await google.colab.kernel.invokeFunction('convertToInteractive',\n",
              "                                                     [key], {});\n",
              "          if (!dataTable) return;\n",
              "\n",
              "          const docLinkHtml = 'Like what you see? Visit the ' +\n",
              "            '<a target=\"_blank\" href=https://colab.research.google.com/notebooks/data_table.ipynb>data table notebook</a>'\n",
              "            + ' to learn more about interactive tables.';\n",
              "          element.innerHTML = '';\n",
              "          dataTable['output_type'] = 'display_data';\n",
              "          await google.colab.output.renderOutput(dataTable, element);\n",
              "          const docLink = document.createElement('div');\n",
              "          docLink.innerHTML = docLinkHtml;\n",
              "          element.appendChild(docLink);\n",
              "        }\n",
              "      </script>\n",
              "    </div>\n",
              "  </div>\n",
              "  "
            ]
          },
          "metadata": {},
          "execution_count": 171
        }
      ]
    },
    {
      "cell_type": "markdown",
      "metadata": {
        "id": "Cw1vWxPkdKs5"
      },
      "source": [
        "Выведите список названий столбцов:"
      ]
    },
    {
      "cell_type": "code",
      "source": [
        "df.info()"
      ],
      "metadata": {
        "colab": {
          "base_uri": "https://localhost:8080/"
        },
        "id": "hdyoqM0t_kfx",
        "outputId": "66074cb8-886e-4078-94ad-0001dad31867"
      },
      "execution_count": null,
      "outputs": [
        {
          "output_type": "stream",
          "name": "stdout",
          "text": [
            "<class 'pandas.core.frame.DataFrame'>\n",
            "RangeIndex: 150000 entries, 0 to 149999\n",
            "Data columns (total 7 columns):\n",
            " #   Column                           Non-Null Count   Dtype  \n",
            "---  ------                           --------------   -----  \n",
            " 0   defaulted                        150000 non-null  int64  \n",
            " 1   age                              150000 non-null  int64  \n",
            " 2   DebtRatio                        150000 non-null  float64\n",
            " 3   MonthlyIncome                    120269 non-null  float64\n",
            " 4   NumberOfOpenCreditLinesAndLoans  150000 non-null  int64  \n",
            " 5   NumberRealEstateLoansOrLines     150000 non-null  int64  \n",
            " 6   NumberOfDependents               146076 non-null  float64\n",
            "dtypes: float64(3), int64(4)\n",
            "memory usage: 8.0 MB\n"
          ]
        }
      ]
    },
    {
      "cell_type": "code",
      "source": [
        "df.columns.tolist()"
      ],
      "metadata": {
        "colab": {
          "base_uri": "https://localhost:8080/"
        },
        "id": "_st1amlP-qdT",
        "outputId": "68685a30-bd3b-4cba-8495-67f826bef8f1"
      },
      "execution_count": null,
      "outputs": [
        {
          "output_type": "execute_result",
          "data": {
            "text/plain": [
              "['defaulted',\n",
              " 'age',\n",
              " 'DebtRatio',\n",
              " 'MonthlyIncome',\n",
              " 'NumberOfOpenCreditLinesAndLoans',\n",
              " 'NumberRealEstateLoansOrLines',\n",
              " 'NumberOfDependents']"
            ]
          },
          "metadata": {},
          "execution_count": 173
        }
      ]
    },
    {
      "cell_type": "code",
      "metadata": {
        "id": "dCqEW6y2dKs5",
        "colab": {
          "base_uri": "https://localhost:8080/"
        },
        "outputId": "5bc2f53e-3120-499a-fab2-5b228a67bdb0"
      },
      "source": [
        "df.keys().tolist()"
      ],
      "execution_count": null,
      "outputs": [
        {
          "output_type": "execute_result",
          "data": {
            "text/plain": [
              "['defaulted',\n",
              " 'age',\n",
              " 'DebtRatio',\n",
              " 'MonthlyIncome',\n",
              " 'NumberOfOpenCreditLinesAndLoans',\n",
              " 'NumberRealEstateLoansOrLines',\n",
              " 'NumberOfDependents']"
            ]
          },
          "metadata": {},
          "execution_count": 174
        }
      ]
    },
    {
      "cell_type": "markdown",
      "source": [
        "```\n",
        "['defaulted',\n",
        " 'age',\n",
        " 'DebtRatio',\n",
        " 'MonthlyIncome',\n",
        " 'NumberOfOpenCreditLinesAndLoans',\n",
        " 'NumberRealEstateLoansOrLines',\n",
        " 'NumberOfDependents']\n",
        " ```"
      ],
      "metadata": {
        "id": "YWfEHVwQYBAB"
      }
    },
    {
      "cell_type": "markdown",
      "metadata": {
        "id": "WpSLgazLdKs6"
      },
      "source": [
        "## Задача 2"
      ]
    },
    {
      "cell_type": "markdown",
      "metadata": {
        "id": "ULvNfAxtdKs6"
      },
      "source": [
        "Определите число пропусков в каждом столбце (могут пригодиться методы ```isnull``` и ```sum```):"
      ]
    },
    {
      "cell_type": "code",
      "source": [
        "import numpy as np"
      ],
      "metadata": {
        "id": "msHr7ZZOAQak"
      },
      "execution_count": null,
      "outputs": []
    },
    {
      "cell_type": "code",
      "source": [
        "#help(np.sum)\n",
        "#help(np.mean)"
      ],
      "metadata": {
        "id": "CdN1JW3SAXn8"
      },
      "execution_count": null,
      "outputs": []
    },
    {
      "cell_type": "code",
      "metadata": {
        "id": "KnKRkbuXdKs6",
        "colab": {
          "base_uri": "https://localhost:8080/"
        },
        "outputId": "4da5a6d0-4aef-4826-d453-bf7078717d0b"
      },
      "source": [
        "null_total = np.sum(df.isnull(), axis=0)\n",
        "null_total"
      ],
      "execution_count": null,
      "outputs": [
        {
          "output_type": "execute_result",
          "data": {
            "text/plain": [
              "defaulted                              0\n",
              "age                                    0\n",
              "DebtRatio                              0\n",
              "MonthlyIncome                      29731\n",
              "NumberOfOpenCreditLinesAndLoans        0\n",
              "NumberRealEstateLoansOrLines           0\n",
              "NumberOfDependents                  3924\n",
              "dtype: int64"
            ]
          },
          "metadata": {},
          "execution_count": 177
        }
      ]
    },
    {
      "cell_type": "markdown",
      "source": [
        "\n",
        "```\n",
        "defaulted                              0\n",
        "age                                    0\n",
        "DebtRatio                              0\n",
        "MonthlyIncome                      29731\n",
        "NumberOfOpenCreditLinesAndLoans        0\n",
        "NumberRealEstateLoansOrLines           0\n",
        "NumberOfDependents                  3924\n",
        "dtype: int64\n",
        "```\n",
        "\n"
      ],
      "metadata": {
        "id": "HPcInbD3YHkB"
      }
    },
    {
      "cell_type": "markdown",
      "metadata": {
        "id": "-6nWWy0vdKs7"
      },
      "source": [
        "Определите долю пропусков в каждом столбце (могут пригодиться методы ```isnull``` и ```mean```):"
      ]
    },
    {
      "cell_type": "code",
      "metadata": {
        "id": "GLiQIrvwdKs7",
        "colab": {
          "base_uri": "https://localhost:8080/"
        },
        "outputId": "1e4771c0-f491-44e2-f5e8-9aa8d4146cf3"
      },
      "source": [
        "# модификация запроса №1\n",
        "null_proc = np.mean(df.isnull(), axis=0)\n",
        "# модификация запроса №2\n",
        "null_proc2 = df.isnull().mean(axis=0)\n",
        "null_proc2"
      ],
      "execution_count": null,
      "outputs": [
        {
          "output_type": "execute_result",
          "data": {
            "text/plain": [
              "defaulted                          0.000000\n",
              "age                                0.000000\n",
              "DebtRatio                          0.000000\n",
              "MonthlyIncome                      0.198207\n",
              "NumberOfOpenCreditLinesAndLoans    0.000000\n",
              "NumberRealEstateLoansOrLines       0.000000\n",
              "NumberOfDependents                 0.026160\n",
              "dtype: float64"
            ]
          },
          "metadata": {},
          "execution_count": 178
        }
      ]
    },
    {
      "cell_type": "markdown",
      "source": [
        "```\n",
        "defaulted                          0.000000\n",
        "age                                0.000000\n",
        "DebtRatio                          0.000000\n",
        "MonthlyIncome                      0.198207\n",
        "NumberOfOpenCreditLinesAndLoans    0.000000\n",
        "NumberRealEstateLoansOrLines       0.000000\n",
        "NumberOfDependents                 0.026160\n",
        "dtype: float64\n",
        "```"
      ],
      "metadata": {
        "id": "lxiF4WbjYRi-"
      }
    },
    {
      "cell_type": "markdown",
      "source": [
        "Отметим неполноту данных о доходах у 19,8% заемщиков\n"
      ],
      "metadata": {
        "id": "jM9pHArwCv19"
      }
    },
    {
      "cell_type": "markdown",
      "metadata": {
        "id": "vxVMh9UDdKs7"
      },
      "source": [
        "## Задача 3"
      ]
    },
    {
      "cell_type": "markdown",
      "source": [
        "Определите долю заемщиков, которые не выплатили кредит (колонка ```defaulted```):"
      ],
      "metadata": {
        "id": "fKEjMQl0eIZz"
      }
    },
    {
      "cell_type": "code",
      "source": [
        "df['defaulted']"
      ],
      "metadata": {
        "colab": {
          "base_uri": "https://localhost:8080/"
        },
        "id": "3eo8b-EyEZNb",
        "outputId": "cb6264f1-ae1d-473b-952e-216b99bcc345"
      },
      "execution_count": null,
      "outputs": [
        {
          "output_type": "execute_result",
          "data": {
            "text/plain": [
              "0         1\n",
              "1         0\n",
              "2         0\n",
              "3         0\n",
              "4         0\n",
              "         ..\n",
              "149995    0\n",
              "149996    0\n",
              "149997    0\n",
              "149998    0\n",
              "149999    0\n",
              "Name: defaulted, Length: 150000, dtype: int64"
            ]
          },
          "metadata": {},
          "execution_count": 179
        }
      ]
    },
    {
      "cell_type": "code",
      "source": [
        "# посмотрим содержимое поля 'defaulted'\n",
        "df['defaulted'].value_counts()"
      ],
      "metadata": {
        "colab": {
          "base_uri": "https://localhost:8080/"
        },
        "id": "3Q9VLy5ZJymW",
        "outputId": "d33e54c2-04f2-47c7-8eab-ddd5ebccae96"
      },
      "execution_count": null,
      "outputs": [
        {
          "output_type": "execute_result",
          "data": {
            "text/plain": [
              "0    139974\n",
              "1     10026\n",
              "Name: defaulted, dtype: int64"
            ]
          },
          "metadata": {},
          "execution_count": 180
        }
      ]
    },
    {
      "cell_type": "code",
      "metadata": {
        "id": "s5IS56FNdKs8",
        "colab": {
          "base_uri": "https://localhost:8080/"
        },
        "outputId": "57e6c46c-3ca2-40c8-b81f-b137a0915ecf"
      },
      "source": [
        "# определим долю дефолтных кредитов\n",
        "df['defaulted'].mean()"
      ],
      "execution_count": null,
      "outputs": [
        {
          "output_type": "execute_result",
          "data": {
            "text/plain": [
              "0.06684"
            ]
          },
          "metadata": {},
          "execution_count": 181
        }
      ]
    },
    {
      "cell_type": "markdown",
      "source": [
        "```0.06684```"
      ],
      "metadata": {
        "id": "K-iBtSBoYdBX"
      }
    },
    {
      "cell_type": "markdown",
      "metadata": {
        "id": "2euhSaR8dKs8"
      },
      "source": [
        "## Задача 4"
      ]
    },
    {
      "cell_type": "markdown",
      "source": [
        "Определите количество заемщиков, у которых ежемесячный доход ```MonthlyIncome``` выше среднего:"
      ],
      "metadata": {
        "id": "LKABQ5PGeKfW"
      }
    },
    {
      "cell_type": "code",
      "metadata": {
        "id": "OrFyCw-NdKs8",
        "colab": {
          "base_uri": "https://localhost:8080/",
          "height": 270
        },
        "outputId": "2e4a38b2-7ef9-42a4-aba8-067088f096e7"
      },
      "source": [
        "df.head()"
      ],
      "execution_count": null,
      "outputs": [
        {
          "output_type": "execute_result",
          "data": {
            "text/plain": [
              "   defaulted  age  DebtRatio  MonthlyIncome  NumberOfOpenCreditLinesAndLoans  \\\n",
              "0          1   45   0.802982         9120.0                               13   \n",
              "1          0   40   0.121876         2600.0                                4   \n",
              "2          0   38   0.085113         3042.0                                2   \n",
              "3          0   30   0.036050         3300.0                                5   \n",
              "4          0   49   0.024926        63588.0                                7   \n",
              "\n",
              "   NumberRealEstateLoansOrLines  NumberOfDependents  \n",
              "0                             6                 2.0  \n",
              "1                             0                 1.0  \n",
              "2                             0                 0.0  \n",
              "3                             0                 0.0  \n",
              "4                             1                 0.0  "
            ],
            "text/html": [
              "\n",
              "  <div id=\"df-a91da3fa-7506-46d9-9351-f3263c4eec15\">\n",
              "    <div class=\"colab-df-container\">\n",
              "      <div>\n",
              "<style scoped>\n",
              "    .dataframe tbody tr th:only-of-type {\n",
              "        vertical-align: middle;\n",
              "    }\n",
              "\n",
              "    .dataframe tbody tr th {\n",
              "        vertical-align: top;\n",
              "    }\n",
              "\n",
              "    .dataframe thead th {\n",
              "        text-align: right;\n",
              "    }\n",
              "</style>\n",
              "<table border=\"1\" class=\"dataframe\">\n",
              "  <thead>\n",
              "    <tr style=\"text-align: right;\">\n",
              "      <th></th>\n",
              "      <th>defaulted</th>\n",
              "      <th>age</th>\n",
              "      <th>DebtRatio</th>\n",
              "      <th>MonthlyIncome</th>\n",
              "      <th>NumberOfOpenCreditLinesAndLoans</th>\n",
              "      <th>NumberRealEstateLoansOrLines</th>\n",
              "      <th>NumberOfDependents</th>\n",
              "    </tr>\n",
              "  </thead>\n",
              "  <tbody>\n",
              "    <tr>\n",
              "      <th>0</th>\n",
              "      <td>1</td>\n",
              "      <td>45</td>\n",
              "      <td>0.802982</td>\n",
              "      <td>9120.0</td>\n",
              "      <td>13</td>\n",
              "      <td>6</td>\n",
              "      <td>2.0</td>\n",
              "    </tr>\n",
              "    <tr>\n",
              "      <th>1</th>\n",
              "      <td>0</td>\n",
              "      <td>40</td>\n",
              "      <td>0.121876</td>\n",
              "      <td>2600.0</td>\n",
              "      <td>4</td>\n",
              "      <td>0</td>\n",
              "      <td>1.0</td>\n",
              "    </tr>\n",
              "    <tr>\n",
              "      <th>2</th>\n",
              "      <td>0</td>\n",
              "      <td>38</td>\n",
              "      <td>0.085113</td>\n",
              "      <td>3042.0</td>\n",
              "      <td>2</td>\n",
              "      <td>0</td>\n",
              "      <td>0.0</td>\n",
              "    </tr>\n",
              "    <tr>\n",
              "      <th>3</th>\n",
              "      <td>0</td>\n",
              "      <td>30</td>\n",
              "      <td>0.036050</td>\n",
              "      <td>3300.0</td>\n",
              "      <td>5</td>\n",
              "      <td>0</td>\n",
              "      <td>0.0</td>\n",
              "    </tr>\n",
              "    <tr>\n",
              "      <th>4</th>\n",
              "      <td>0</td>\n",
              "      <td>49</td>\n",
              "      <td>0.024926</td>\n",
              "      <td>63588.0</td>\n",
              "      <td>7</td>\n",
              "      <td>1</td>\n",
              "      <td>0.0</td>\n",
              "    </tr>\n",
              "  </tbody>\n",
              "</table>\n",
              "</div>\n",
              "      <button class=\"colab-df-convert\" onclick=\"convertToInteractive('df-a91da3fa-7506-46d9-9351-f3263c4eec15')\"\n",
              "              title=\"Convert this dataframe to an interactive table.\"\n",
              "              style=\"display:none;\">\n",
              "        \n",
              "  <svg xmlns=\"http://www.w3.org/2000/svg\" height=\"24px\"viewBox=\"0 0 24 24\"\n",
              "       width=\"24px\">\n",
              "    <path d=\"M0 0h24v24H0V0z\" fill=\"none\"/>\n",
              "    <path d=\"M18.56 5.44l.94 2.06.94-2.06 2.06-.94-2.06-.94-.94-2.06-.94 2.06-2.06.94zm-11 1L8.5 8.5l.94-2.06 2.06-.94-2.06-.94L8.5 2.5l-.94 2.06-2.06.94zm10 10l.94 2.06.94-2.06 2.06-.94-2.06-.94-.94-2.06-.94 2.06-2.06.94z\"/><path d=\"M17.41 7.96l-1.37-1.37c-.4-.4-.92-.59-1.43-.59-.52 0-1.04.2-1.43.59L10.3 9.45l-7.72 7.72c-.78.78-.78 2.05 0 2.83L4 21.41c.39.39.9.59 1.41.59.51 0 1.02-.2 1.41-.59l7.78-7.78 2.81-2.81c.8-.78.8-2.07 0-2.86zM5.41 20L4 18.59l7.72-7.72 1.47 1.35L5.41 20z\"/>\n",
              "  </svg>\n",
              "      </button>\n",
              "      \n",
              "  <style>\n",
              "    .colab-df-container {\n",
              "      display:flex;\n",
              "      flex-wrap:wrap;\n",
              "      gap: 12px;\n",
              "    }\n",
              "\n",
              "    .colab-df-convert {\n",
              "      background-color: #E8F0FE;\n",
              "      border: none;\n",
              "      border-radius: 50%;\n",
              "      cursor: pointer;\n",
              "      display: none;\n",
              "      fill: #1967D2;\n",
              "      height: 32px;\n",
              "      padding: 0 0 0 0;\n",
              "      width: 32px;\n",
              "    }\n",
              "\n",
              "    .colab-df-convert:hover {\n",
              "      background-color: #E2EBFA;\n",
              "      box-shadow: 0px 1px 2px rgba(60, 64, 67, 0.3), 0px 1px 3px 1px rgba(60, 64, 67, 0.15);\n",
              "      fill: #174EA6;\n",
              "    }\n",
              "\n",
              "    [theme=dark] .colab-df-convert {\n",
              "      background-color: #3B4455;\n",
              "      fill: #D2E3FC;\n",
              "    }\n",
              "\n",
              "    [theme=dark] .colab-df-convert:hover {\n",
              "      background-color: #434B5C;\n",
              "      box-shadow: 0px 1px 3px 1px rgba(0, 0, 0, 0.15);\n",
              "      filter: drop-shadow(0px 1px 2px rgba(0, 0, 0, 0.3));\n",
              "      fill: #FFFFFF;\n",
              "    }\n",
              "  </style>\n",
              "\n",
              "      <script>\n",
              "        const buttonEl =\n",
              "          document.querySelector('#df-a91da3fa-7506-46d9-9351-f3263c4eec15 button.colab-df-convert');\n",
              "        buttonEl.style.display =\n",
              "          google.colab.kernel.accessAllowed ? 'block' : 'none';\n",
              "\n",
              "        async function convertToInteractive(key) {\n",
              "          const element = document.querySelector('#df-a91da3fa-7506-46d9-9351-f3263c4eec15');\n",
              "          const dataTable =\n",
              "            await google.colab.kernel.invokeFunction('convertToInteractive',\n",
              "                                                     [key], {});\n",
              "          if (!dataTable) return;\n",
              "\n",
              "          const docLinkHtml = 'Like what you see? Visit the ' +\n",
              "            '<a target=\"_blank\" href=https://colab.research.google.com/notebooks/data_table.ipynb>data table notebook</a>'\n",
              "            + ' to learn more about interactive tables.';\n",
              "          element.innerHTML = '';\n",
              "          dataTable['output_type'] = 'display_data';\n",
              "          await google.colab.output.renderOutput(dataTable, element);\n",
              "          const docLink = document.createElement('div');\n",
              "          docLink.innerHTML = docLinkHtml;\n",
              "          element.appendChild(docLink);\n",
              "        }\n",
              "      </script>\n",
              "    </div>\n",
              "  </div>\n",
              "  "
            ]
          },
          "metadata": {},
          "execution_count": 182
        }
      ]
    },
    {
      "cell_type": "code",
      "source": [
        "# определим средний доход\n",
        "Income_avg = df['MonthlyIncome'].mean()\n",
        "# определим число заемщиков с доходом выше, чем средний доход\n",
        "len(df[df['MonthlyIncome'] > Income_avg])"
      ],
      "metadata": {
        "colab": {
          "base_uri": "https://localhost:8080/"
        },
        "id": "SUMZTkPCKczW",
        "outputId": "78ad35e0-def7-4046-e3e6-da1fbd19c907"
      },
      "execution_count": null,
      "outputs": [
        {
          "output_type": "execute_result",
          "data": {
            "text/plain": [
              "44146"
            ]
          },
          "metadata": {},
          "execution_count": 183
        }
      ]
    },
    {
      "cell_type": "markdown",
      "source": [
        "```44146```"
      ],
      "metadata": {
        "id": "O0KMIlICYt4r"
      }
    },
    {
      "cell_type": "markdown",
      "metadata": {
        "id": "FD9j5sQGdKs8"
      },
      "source": [
        "## Задача 5"
      ]
    },
    {
      "cell_type": "markdown",
      "source": [
        "Вычислите медианный возраст заемщиков, которые не вернули кредит (```defaulted=1```):"
      ],
      "metadata": {
        "id": "SGrDZ5XkeMU2"
      }
    },
    {
      "cell_type": "code",
      "source": [
        "# составим датасет из дефолтных заемщиков\n",
        "df[df['defaulted'] == 1]"
      ],
      "metadata": {
        "colab": {
          "base_uri": "https://localhost:8080/",
          "height": 487
        },
        "id": "nd4Pf71hFOC2",
        "outputId": "c09ebfd3-a502-4627-c40b-0167e08ff1c2"
      },
      "execution_count": null,
      "outputs": [
        {
          "output_type": "execute_result",
          "data": {
            "text/plain": [
              "        defaulted  age   DebtRatio  MonthlyIncome  \\\n",
              "0               1   45    0.802982         9120.0   \n",
              "13              1   40    0.382965        13700.0   \n",
              "21              1   38    0.475841         3000.0   \n",
              "25              1   50    1.595253         4676.0   \n",
              "51              1   31    0.824725         3000.0   \n",
              "...           ...  ...         ...            ...   \n",
              "149954          1   46  170.398010          401.0   \n",
              "149955          1   41    0.845887         7500.0   \n",
              "149961          1   31    0.176732         1125.0   \n",
              "149968          1   55    0.064116         4600.0   \n",
              "149979          1   55    0.057235         8700.0   \n",
              "\n",
              "        NumberOfOpenCreditLinesAndLoans  NumberRealEstateLoansOrLines  \\\n",
              "0                                    13                             6   \n",
              "13                                    9                             1   \n",
              "21                                    7                             1   \n",
              "25                                   14                             3   \n",
              "51                                   10                             2   \n",
              "...                                 ...                           ...   \n",
              "149954                                3                             0   \n",
              "149955                               12                             4   \n",
              "149961                                4                             0   \n",
              "149968                                2                             0   \n",
              "149979                                7                             0   \n",
              "\n",
              "        NumberOfDependents  \n",
              "0                      2.0  \n",
              "13                     2.0  \n",
              "21                     2.0  \n",
              "25                     1.0  \n",
              "51                     1.0  \n",
              "...                    ...  \n",
              "149954                 2.0  \n",
              "149955                 0.0  \n",
              "149961                 0.0  \n",
              "149968                 6.0  \n",
              "149979                 0.0  \n",
              "\n",
              "[10026 rows x 7 columns]"
            ],
            "text/html": [
              "\n",
              "  <div id=\"df-be35ce1e-1803-4fef-bbfd-d63a3f680fdd\">\n",
              "    <div class=\"colab-df-container\">\n",
              "      <div>\n",
              "<style scoped>\n",
              "    .dataframe tbody tr th:only-of-type {\n",
              "        vertical-align: middle;\n",
              "    }\n",
              "\n",
              "    .dataframe tbody tr th {\n",
              "        vertical-align: top;\n",
              "    }\n",
              "\n",
              "    .dataframe thead th {\n",
              "        text-align: right;\n",
              "    }\n",
              "</style>\n",
              "<table border=\"1\" class=\"dataframe\">\n",
              "  <thead>\n",
              "    <tr style=\"text-align: right;\">\n",
              "      <th></th>\n",
              "      <th>defaulted</th>\n",
              "      <th>age</th>\n",
              "      <th>DebtRatio</th>\n",
              "      <th>MonthlyIncome</th>\n",
              "      <th>NumberOfOpenCreditLinesAndLoans</th>\n",
              "      <th>NumberRealEstateLoansOrLines</th>\n",
              "      <th>NumberOfDependents</th>\n",
              "    </tr>\n",
              "  </thead>\n",
              "  <tbody>\n",
              "    <tr>\n",
              "      <th>0</th>\n",
              "      <td>1</td>\n",
              "      <td>45</td>\n",
              "      <td>0.802982</td>\n",
              "      <td>9120.0</td>\n",
              "      <td>13</td>\n",
              "      <td>6</td>\n",
              "      <td>2.0</td>\n",
              "    </tr>\n",
              "    <tr>\n",
              "      <th>13</th>\n",
              "      <td>1</td>\n",
              "      <td>40</td>\n",
              "      <td>0.382965</td>\n",
              "      <td>13700.0</td>\n",
              "      <td>9</td>\n",
              "      <td>1</td>\n",
              "      <td>2.0</td>\n",
              "    </tr>\n",
              "    <tr>\n",
              "      <th>21</th>\n",
              "      <td>1</td>\n",
              "      <td>38</td>\n",
              "      <td>0.475841</td>\n",
              "      <td>3000.0</td>\n",
              "      <td>7</td>\n",
              "      <td>1</td>\n",
              "      <td>2.0</td>\n",
              "    </tr>\n",
              "    <tr>\n",
              "      <th>25</th>\n",
              "      <td>1</td>\n",
              "      <td>50</td>\n",
              "      <td>1.595253</td>\n",
              "      <td>4676.0</td>\n",
              "      <td>14</td>\n",
              "      <td>3</td>\n",
              "      <td>1.0</td>\n",
              "    </tr>\n",
              "    <tr>\n",
              "      <th>51</th>\n",
              "      <td>1</td>\n",
              "      <td>31</td>\n",
              "      <td>0.824725</td>\n",
              "      <td>3000.0</td>\n",
              "      <td>10</td>\n",
              "      <td>2</td>\n",
              "      <td>1.0</td>\n",
              "    </tr>\n",
              "    <tr>\n",
              "      <th>...</th>\n",
              "      <td>...</td>\n",
              "      <td>...</td>\n",
              "      <td>...</td>\n",
              "      <td>...</td>\n",
              "      <td>...</td>\n",
              "      <td>...</td>\n",
              "      <td>...</td>\n",
              "    </tr>\n",
              "    <tr>\n",
              "      <th>149954</th>\n",
              "      <td>1</td>\n",
              "      <td>46</td>\n",
              "      <td>170.398010</td>\n",
              "      <td>401.0</td>\n",
              "      <td>3</td>\n",
              "      <td>0</td>\n",
              "      <td>2.0</td>\n",
              "    </tr>\n",
              "    <tr>\n",
              "      <th>149955</th>\n",
              "      <td>1</td>\n",
              "      <td>41</td>\n",
              "      <td>0.845887</td>\n",
              "      <td>7500.0</td>\n",
              "      <td>12</td>\n",
              "      <td>4</td>\n",
              "      <td>0.0</td>\n",
              "    </tr>\n",
              "    <tr>\n",
              "      <th>149961</th>\n",
              "      <td>1</td>\n",
              "      <td>31</td>\n",
              "      <td>0.176732</td>\n",
              "      <td>1125.0</td>\n",
              "      <td>4</td>\n",
              "      <td>0</td>\n",
              "      <td>0.0</td>\n",
              "    </tr>\n",
              "    <tr>\n",
              "      <th>149968</th>\n",
              "      <td>1</td>\n",
              "      <td>55</td>\n",
              "      <td>0.064116</td>\n",
              "      <td>4600.0</td>\n",
              "      <td>2</td>\n",
              "      <td>0</td>\n",
              "      <td>6.0</td>\n",
              "    </tr>\n",
              "    <tr>\n",
              "      <th>149979</th>\n",
              "      <td>1</td>\n",
              "      <td>55</td>\n",
              "      <td>0.057235</td>\n",
              "      <td>8700.0</td>\n",
              "      <td>7</td>\n",
              "      <td>0</td>\n",
              "      <td>0.0</td>\n",
              "    </tr>\n",
              "  </tbody>\n",
              "</table>\n",
              "<p>10026 rows × 7 columns</p>\n",
              "</div>\n",
              "      <button class=\"colab-df-convert\" onclick=\"convertToInteractive('df-be35ce1e-1803-4fef-bbfd-d63a3f680fdd')\"\n",
              "              title=\"Convert this dataframe to an interactive table.\"\n",
              "              style=\"display:none;\">\n",
              "        \n",
              "  <svg xmlns=\"http://www.w3.org/2000/svg\" height=\"24px\"viewBox=\"0 0 24 24\"\n",
              "       width=\"24px\">\n",
              "    <path d=\"M0 0h24v24H0V0z\" fill=\"none\"/>\n",
              "    <path d=\"M18.56 5.44l.94 2.06.94-2.06 2.06-.94-2.06-.94-.94-2.06-.94 2.06-2.06.94zm-11 1L8.5 8.5l.94-2.06 2.06-.94-2.06-.94L8.5 2.5l-.94 2.06-2.06.94zm10 10l.94 2.06.94-2.06 2.06-.94-2.06-.94-.94-2.06-.94 2.06-2.06.94z\"/><path d=\"M17.41 7.96l-1.37-1.37c-.4-.4-.92-.59-1.43-.59-.52 0-1.04.2-1.43.59L10.3 9.45l-7.72 7.72c-.78.78-.78 2.05 0 2.83L4 21.41c.39.39.9.59 1.41.59.51 0 1.02-.2 1.41-.59l7.78-7.78 2.81-2.81c.8-.78.8-2.07 0-2.86zM5.41 20L4 18.59l7.72-7.72 1.47 1.35L5.41 20z\"/>\n",
              "  </svg>\n",
              "      </button>\n",
              "      \n",
              "  <style>\n",
              "    .colab-df-container {\n",
              "      display:flex;\n",
              "      flex-wrap:wrap;\n",
              "      gap: 12px;\n",
              "    }\n",
              "\n",
              "    .colab-df-convert {\n",
              "      background-color: #E8F0FE;\n",
              "      border: none;\n",
              "      border-radius: 50%;\n",
              "      cursor: pointer;\n",
              "      display: none;\n",
              "      fill: #1967D2;\n",
              "      height: 32px;\n",
              "      padding: 0 0 0 0;\n",
              "      width: 32px;\n",
              "    }\n",
              "\n",
              "    .colab-df-convert:hover {\n",
              "      background-color: #E2EBFA;\n",
              "      box-shadow: 0px 1px 2px rgba(60, 64, 67, 0.3), 0px 1px 3px 1px rgba(60, 64, 67, 0.15);\n",
              "      fill: #174EA6;\n",
              "    }\n",
              "\n",
              "    [theme=dark] .colab-df-convert {\n",
              "      background-color: #3B4455;\n",
              "      fill: #D2E3FC;\n",
              "    }\n",
              "\n",
              "    [theme=dark] .colab-df-convert:hover {\n",
              "      background-color: #434B5C;\n",
              "      box-shadow: 0px 1px 3px 1px rgba(0, 0, 0, 0.15);\n",
              "      filter: drop-shadow(0px 1px 2px rgba(0, 0, 0, 0.3));\n",
              "      fill: #FFFFFF;\n",
              "    }\n",
              "  </style>\n",
              "\n",
              "      <script>\n",
              "        const buttonEl =\n",
              "          document.querySelector('#df-be35ce1e-1803-4fef-bbfd-d63a3f680fdd button.colab-df-convert');\n",
              "        buttonEl.style.display =\n",
              "          google.colab.kernel.accessAllowed ? 'block' : 'none';\n",
              "\n",
              "        async function convertToInteractive(key) {\n",
              "          const element = document.querySelector('#df-be35ce1e-1803-4fef-bbfd-d63a3f680fdd');\n",
              "          const dataTable =\n",
              "            await google.colab.kernel.invokeFunction('convertToInteractive',\n",
              "                                                     [key], {});\n",
              "          if (!dataTable) return;\n",
              "\n",
              "          const docLinkHtml = 'Like what you see? Visit the ' +\n",
              "            '<a target=\"_blank\" href=https://colab.research.google.com/notebooks/data_table.ipynb>data table notebook</a>'\n",
              "            + ' to learn more about interactive tables.';\n",
              "          element.innerHTML = '';\n",
              "          dataTable['output_type'] = 'display_data';\n",
              "          await google.colab.output.renderOutput(dataTable, element);\n",
              "          const docLink = document.createElement('div');\n",
              "          docLink.innerHTML = docLinkHtml;\n",
              "          element.appendChild(docLink);\n",
              "        }\n",
              "      </script>\n",
              "    </div>\n",
              "  </div>\n",
              "  "
            ]
          },
          "metadata": {},
          "execution_count": 184
        }
      ]
    },
    {
      "cell_type": "code",
      "metadata": {
        "id": "freki_-VdKs9",
        "colab": {
          "base_uri": "https://localhost:8080/"
        },
        "outputId": "47426f3d-5f01-4d37-db4d-9e593b8a9202"
      },
      "source": [
        "# составим датасет из дефолтных заемщиков\n",
        "defaulted = df[df['defaulted'] == 1]\n",
        "# определим медиану по возрасту дефолтных заемщиков\n",
        "defaulted['age'].median()"
      ],
      "execution_count": null,
      "outputs": [
        {
          "output_type": "execute_result",
          "data": {
            "text/plain": [
              "45.0"
            ]
          },
          "metadata": {},
          "execution_count": 185
        }
      ]
    },
    {
      "cell_type": "markdown",
      "source": [
        "```45.0```"
      ],
      "metadata": {
        "id": "Xiwz_gfwY0m7"
      }
    },
    {
      "cell_type": "markdown",
      "source": [
        "Проверьте, больше ли он или меньше медианного возраста всех заемщиков:"
      ],
      "metadata": {
        "id": "Z2K1WOZ4dkls"
      }
    },
    {
      "cell_type": "code",
      "metadata": {
        "id": "UYB4hW8kdKs9",
        "colab": {
          "base_uri": "https://localhost:8080/",
          "height": 54
        },
        "outputId": "61c6f7c8-8465-42ad-9bf3-096877dfd4b9"
      },
      "source": [
        "x = df['age'].median()\n",
        "y = defaulted['age'].median()\n",
        "display(f'''Медианный возраст всех заемщиков {x} лет''',  \n",
        "f'''Медианный возраст дефолтных заемщиков {y} лет''')"
      ],
      "execution_count": null,
      "outputs": [
        {
          "output_type": "display_data",
          "data": {
            "text/plain": [
              "'Медианный возраст всех заемщиков 52.0 лет'"
            ],
            "application/vnd.google.colaboratory.intrinsic+json": {
              "type": "string"
            }
          },
          "metadata": {}
        },
        {
          "output_type": "display_data",
          "data": {
            "text/plain": [
              "'Медианный возраст дефолтных заемщиков 45.0 лет'"
            ],
            "application/vnd.google.colaboratory.intrinsic+json": {
              "type": "string"
            }
          },
          "metadata": {}
        }
      ]
    },
    {
      "cell_type": "code",
      "source": [
        "# display - позволяет вывести несколько сущностей, а не последную\n",
        "display(f'''Медианный возраст всех заемщиков {x} лет''')\n",
        "display(f'''Медианный возраст дефолтных заемщиков {y} лет''')"
      ],
      "metadata": {
        "colab": {
          "base_uri": "https://localhost:8080/",
          "height": 54
        },
        "id": "AqyGQcgrFywn",
        "outputId": "ca523974-fe61-4515-d8a9-db21e4f15156"
      },
      "execution_count": null,
      "outputs": [
        {
          "output_type": "display_data",
          "data": {
            "text/plain": [
              "'Медианный возраст всех заемщиков 52.0 лет'"
            ],
            "application/vnd.google.colaboratory.intrinsic+json": {
              "type": "string"
            }
          },
          "metadata": {}
        },
        {
          "output_type": "display_data",
          "data": {
            "text/plain": [
              "'Медианный возраст дефолтных заемщиков 45.0 лет'"
            ],
            "application/vnd.google.colaboratory.intrinsic+json": {
              "type": "string"
            }
          },
          "metadata": {}
        }
      ]
    },
    {
      "cell_type": "code",
      "source": [
        "# Больше ли медианный возраст дефолтных заемщиков чем возраст всех заемщиков?\n",
        "y > x"
      ],
      "metadata": {
        "colab": {
          "base_uri": "https://localhost:8080/"
        },
        "id": "nsRUijiiN9zH",
        "outputId": "dce732ea-a5ac-4570-d9cc-881f58270212"
      },
      "execution_count": null,
      "outputs": [
        {
          "output_type": "execute_result",
          "data": {
            "text/plain": [
              "False"
            ]
          },
          "metadata": {},
          "execution_count": 188
        }
      ]
    },
    {
      "cell_type": "markdown",
      "metadata": {
        "id": "YsaEANcFdKs9"
      },
      "source": [
        "## Задача 6"
      ]
    },
    {
      "cell_type": "markdown",
      "source": [
        "Вычислите сколько заемщиков старше 40 лет имеют ежемесячный доход больше среднего ежемесячного дохода по всей выборке:"
      ],
      "metadata": {
        "id": "Rnc5xebMeORH"
      }
    },
    {
      "cell_type": "code",
      "metadata": {
        "id": "NeQv8cFDdKs-",
        "colab": {
          "base_uri": "https://localhost:8080/",
          "height": 270
        },
        "outputId": "30a937ed-bc9b-4986-ffef-08644e29145a"
      },
      "source": [
        "df.head()"
      ],
      "execution_count": null,
      "outputs": [
        {
          "output_type": "execute_result",
          "data": {
            "text/plain": [
              "   defaulted  age  DebtRatio  MonthlyIncome  NumberOfOpenCreditLinesAndLoans  \\\n",
              "0          1   45   0.802982         9120.0                               13   \n",
              "1          0   40   0.121876         2600.0                                4   \n",
              "2          0   38   0.085113         3042.0                                2   \n",
              "3          0   30   0.036050         3300.0                                5   \n",
              "4          0   49   0.024926        63588.0                                7   \n",
              "\n",
              "   NumberRealEstateLoansOrLines  NumberOfDependents  \n",
              "0                             6                 2.0  \n",
              "1                             0                 1.0  \n",
              "2                             0                 0.0  \n",
              "3                             0                 0.0  \n",
              "4                             1                 0.0  "
            ],
            "text/html": [
              "\n",
              "  <div id=\"df-f1aa4b44-95fb-44b0-8385-5571cbf9aa49\">\n",
              "    <div class=\"colab-df-container\">\n",
              "      <div>\n",
              "<style scoped>\n",
              "    .dataframe tbody tr th:only-of-type {\n",
              "        vertical-align: middle;\n",
              "    }\n",
              "\n",
              "    .dataframe tbody tr th {\n",
              "        vertical-align: top;\n",
              "    }\n",
              "\n",
              "    .dataframe thead th {\n",
              "        text-align: right;\n",
              "    }\n",
              "</style>\n",
              "<table border=\"1\" class=\"dataframe\">\n",
              "  <thead>\n",
              "    <tr style=\"text-align: right;\">\n",
              "      <th></th>\n",
              "      <th>defaulted</th>\n",
              "      <th>age</th>\n",
              "      <th>DebtRatio</th>\n",
              "      <th>MonthlyIncome</th>\n",
              "      <th>NumberOfOpenCreditLinesAndLoans</th>\n",
              "      <th>NumberRealEstateLoansOrLines</th>\n",
              "      <th>NumberOfDependents</th>\n",
              "    </tr>\n",
              "  </thead>\n",
              "  <tbody>\n",
              "    <tr>\n",
              "      <th>0</th>\n",
              "      <td>1</td>\n",
              "      <td>45</td>\n",
              "      <td>0.802982</td>\n",
              "      <td>9120.0</td>\n",
              "      <td>13</td>\n",
              "      <td>6</td>\n",
              "      <td>2.0</td>\n",
              "    </tr>\n",
              "    <tr>\n",
              "      <th>1</th>\n",
              "      <td>0</td>\n",
              "      <td>40</td>\n",
              "      <td>0.121876</td>\n",
              "      <td>2600.0</td>\n",
              "      <td>4</td>\n",
              "      <td>0</td>\n",
              "      <td>1.0</td>\n",
              "    </tr>\n",
              "    <tr>\n",
              "      <th>2</th>\n",
              "      <td>0</td>\n",
              "      <td>38</td>\n",
              "      <td>0.085113</td>\n",
              "      <td>3042.0</td>\n",
              "      <td>2</td>\n",
              "      <td>0</td>\n",
              "      <td>0.0</td>\n",
              "    </tr>\n",
              "    <tr>\n",
              "      <th>3</th>\n",
              "      <td>0</td>\n",
              "      <td>30</td>\n",
              "      <td>0.036050</td>\n",
              "      <td>3300.0</td>\n",
              "      <td>5</td>\n",
              "      <td>0</td>\n",
              "      <td>0.0</td>\n",
              "    </tr>\n",
              "    <tr>\n",
              "      <th>4</th>\n",
              "      <td>0</td>\n",
              "      <td>49</td>\n",
              "      <td>0.024926</td>\n",
              "      <td>63588.0</td>\n",
              "      <td>7</td>\n",
              "      <td>1</td>\n",
              "      <td>0.0</td>\n",
              "    </tr>\n",
              "  </tbody>\n",
              "</table>\n",
              "</div>\n",
              "      <button class=\"colab-df-convert\" onclick=\"convertToInteractive('df-f1aa4b44-95fb-44b0-8385-5571cbf9aa49')\"\n",
              "              title=\"Convert this dataframe to an interactive table.\"\n",
              "              style=\"display:none;\">\n",
              "        \n",
              "  <svg xmlns=\"http://www.w3.org/2000/svg\" height=\"24px\"viewBox=\"0 0 24 24\"\n",
              "       width=\"24px\">\n",
              "    <path d=\"M0 0h24v24H0V0z\" fill=\"none\"/>\n",
              "    <path d=\"M18.56 5.44l.94 2.06.94-2.06 2.06-.94-2.06-.94-.94-2.06-.94 2.06-2.06.94zm-11 1L8.5 8.5l.94-2.06 2.06-.94-2.06-.94L8.5 2.5l-.94 2.06-2.06.94zm10 10l.94 2.06.94-2.06 2.06-.94-2.06-.94-.94-2.06-.94 2.06-2.06.94z\"/><path d=\"M17.41 7.96l-1.37-1.37c-.4-.4-.92-.59-1.43-.59-.52 0-1.04.2-1.43.59L10.3 9.45l-7.72 7.72c-.78.78-.78 2.05 0 2.83L4 21.41c.39.39.9.59 1.41.59.51 0 1.02-.2 1.41-.59l7.78-7.78 2.81-2.81c.8-.78.8-2.07 0-2.86zM5.41 20L4 18.59l7.72-7.72 1.47 1.35L5.41 20z\"/>\n",
              "  </svg>\n",
              "      </button>\n",
              "      \n",
              "  <style>\n",
              "    .colab-df-container {\n",
              "      display:flex;\n",
              "      flex-wrap:wrap;\n",
              "      gap: 12px;\n",
              "    }\n",
              "\n",
              "    .colab-df-convert {\n",
              "      background-color: #E8F0FE;\n",
              "      border: none;\n",
              "      border-radius: 50%;\n",
              "      cursor: pointer;\n",
              "      display: none;\n",
              "      fill: #1967D2;\n",
              "      height: 32px;\n",
              "      padding: 0 0 0 0;\n",
              "      width: 32px;\n",
              "    }\n",
              "\n",
              "    .colab-df-convert:hover {\n",
              "      background-color: #E2EBFA;\n",
              "      box-shadow: 0px 1px 2px rgba(60, 64, 67, 0.3), 0px 1px 3px 1px rgba(60, 64, 67, 0.15);\n",
              "      fill: #174EA6;\n",
              "    }\n",
              "\n",
              "    [theme=dark] .colab-df-convert {\n",
              "      background-color: #3B4455;\n",
              "      fill: #D2E3FC;\n",
              "    }\n",
              "\n",
              "    [theme=dark] .colab-df-convert:hover {\n",
              "      background-color: #434B5C;\n",
              "      box-shadow: 0px 1px 3px 1px rgba(0, 0, 0, 0.15);\n",
              "      filter: drop-shadow(0px 1px 2px rgba(0, 0, 0, 0.3));\n",
              "      fill: #FFFFFF;\n",
              "    }\n",
              "  </style>\n",
              "\n",
              "      <script>\n",
              "        const buttonEl =\n",
              "          document.querySelector('#df-f1aa4b44-95fb-44b0-8385-5571cbf9aa49 button.colab-df-convert');\n",
              "        buttonEl.style.display =\n",
              "          google.colab.kernel.accessAllowed ? 'block' : 'none';\n",
              "\n",
              "        async function convertToInteractive(key) {\n",
              "          const element = document.querySelector('#df-f1aa4b44-95fb-44b0-8385-5571cbf9aa49');\n",
              "          const dataTable =\n",
              "            await google.colab.kernel.invokeFunction('convertToInteractive',\n",
              "                                                     [key], {});\n",
              "          if (!dataTable) return;\n",
              "\n",
              "          const docLinkHtml = 'Like what you see? Visit the ' +\n",
              "            '<a target=\"_blank\" href=https://colab.research.google.com/notebooks/data_table.ipynb>data table notebook</a>'\n",
              "            + ' to learn more about interactive tables.';\n",
              "          element.innerHTML = '';\n",
              "          dataTable['output_type'] = 'display_data';\n",
              "          await google.colab.output.renderOutput(dataTable, element);\n",
              "          const docLink = document.createElement('div');\n",
              "          docLink.innerHTML = docLinkHtml;\n",
              "          element.appendChild(docLink);\n",
              "        }\n",
              "      </script>\n",
              "    </div>\n",
              "  </div>\n",
              "  "
            ]
          },
          "metadata": {},
          "execution_count": 189
        }
      ]
    },
    {
      "cell_type": "code",
      "source": [
        "# сформулируем составлное условие и рассчитаем искомое число\n",
        "sum((df['MonthlyIncome'] > df['MonthlyIncome'].mean()) & (df['age'] > 40))"
      ],
      "metadata": {
        "colab": {
          "base_uri": "https://localhost:8080/"
        },
        "id": "WkkMiYgzPApI",
        "outputId": "15171301-d957-4114-fd44-73ccd96dd07d"
      },
      "execution_count": null,
      "outputs": [
        {
          "output_type": "execute_result",
          "data": {
            "text/plain": [
              "37629"
            ]
          },
          "metadata": {},
          "execution_count": 190
        }
      ]
    },
    {
      "cell_type": "markdown",
      "source": [
        "```37629```"
      ],
      "metadata": {
        "id": "Vts7_0FTY2xL"
      }
    },
    {
      "cell_type": "markdown",
      "metadata": {
        "id": "XwLzrBY3dKs-"
      },
      "source": [
        "# Вычисление новых признаков и группировка данных"
      ]
    },
    {
      "cell_type": "markdown",
      "metadata": {
        "id": "Ww14rrZBdKs-"
      },
      "source": [
        "## Задача 7 "
      ]
    },
    {
      "cell_type": "markdown",
      "source": [
        "Вычислите новый признак ```age_group``` на основе признака ```age```, который разбивает заемщиков на 3 возрастные группы:\n",
        "- до 30 лет включительно (операция ```<=```) - **группа 1**\n",
        "- от 30 лет не включительно и до 50 лет включительно - **группа 2**\n",
        "- строго старше 50 лет - **группа 3**\n",
        "\n",
        "Для этого заведите отдельную функцию `calculate_age_group` и передайте ее в метод `apply`, который позовете от столбца `age`:"
      ],
      "metadata": {
        "id": "pO52qJXgeR0O"
      }
    },
    {
      "cell_type": "code",
      "metadata": {
        "id": "vwJeahmkdKs_",
        "colab": {
          "base_uri": "https://localhost:8080/",
          "height": 270
        },
        "outputId": "7c0f6a25-2240-4900-9501-48041e40fcee"
      },
      "source": [
        "def calculate_age_group(x):\n",
        "  if x <= 30:\n",
        "    result = 'группа 1'\n",
        "  elif x > 50:\n",
        "    result = 'группа 3'\n",
        "  else:\n",
        "    result = 'группа 2'\n",
        "  return result\n",
        "\n",
        "df['age_group'] = df.apply(lambda y: calculate_age_group(y['age']), axis = 1)\n",
        "df.head()\n"
      ],
      "execution_count": null,
      "outputs": [
        {
          "output_type": "execute_result",
          "data": {
            "text/plain": [
              "   defaulted  age  DebtRatio  MonthlyIncome  NumberOfOpenCreditLinesAndLoans  \\\n",
              "0          1   45   0.802982         9120.0                               13   \n",
              "1          0   40   0.121876         2600.0                                4   \n",
              "2          0   38   0.085113         3042.0                                2   \n",
              "3          0   30   0.036050         3300.0                                5   \n",
              "4          0   49   0.024926        63588.0                                7   \n",
              "\n",
              "   NumberRealEstateLoansOrLines  NumberOfDependents age_group  \n",
              "0                             6                 2.0  группа 2  \n",
              "1                             0                 1.0  группа 2  \n",
              "2                             0                 0.0  группа 2  \n",
              "3                             0                 0.0  группа 1  \n",
              "4                             1                 0.0  группа 2  "
            ],
            "text/html": [
              "\n",
              "  <div id=\"df-6ae92fdb-ca9e-47c0-aff7-5fc944619af5\">\n",
              "    <div class=\"colab-df-container\">\n",
              "      <div>\n",
              "<style scoped>\n",
              "    .dataframe tbody tr th:only-of-type {\n",
              "        vertical-align: middle;\n",
              "    }\n",
              "\n",
              "    .dataframe tbody tr th {\n",
              "        vertical-align: top;\n",
              "    }\n",
              "\n",
              "    .dataframe thead th {\n",
              "        text-align: right;\n",
              "    }\n",
              "</style>\n",
              "<table border=\"1\" class=\"dataframe\">\n",
              "  <thead>\n",
              "    <tr style=\"text-align: right;\">\n",
              "      <th></th>\n",
              "      <th>defaulted</th>\n",
              "      <th>age</th>\n",
              "      <th>DebtRatio</th>\n",
              "      <th>MonthlyIncome</th>\n",
              "      <th>NumberOfOpenCreditLinesAndLoans</th>\n",
              "      <th>NumberRealEstateLoansOrLines</th>\n",
              "      <th>NumberOfDependents</th>\n",
              "      <th>age_group</th>\n",
              "    </tr>\n",
              "  </thead>\n",
              "  <tbody>\n",
              "    <tr>\n",
              "      <th>0</th>\n",
              "      <td>1</td>\n",
              "      <td>45</td>\n",
              "      <td>0.802982</td>\n",
              "      <td>9120.0</td>\n",
              "      <td>13</td>\n",
              "      <td>6</td>\n",
              "      <td>2.0</td>\n",
              "      <td>группа 2</td>\n",
              "    </tr>\n",
              "    <tr>\n",
              "      <th>1</th>\n",
              "      <td>0</td>\n",
              "      <td>40</td>\n",
              "      <td>0.121876</td>\n",
              "      <td>2600.0</td>\n",
              "      <td>4</td>\n",
              "      <td>0</td>\n",
              "      <td>1.0</td>\n",
              "      <td>группа 2</td>\n",
              "    </tr>\n",
              "    <tr>\n",
              "      <th>2</th>\n",
              "      <td>0</td>\n",
              "      <td>38</td>\n",
              "      <td>0.085113</td>\n",
              "      <td>3042.0</td>\n",
              "      <td>2</td>\n",
              "      <td>0</td>\n",
              "      <td>0.0</td>\n",
              "      <td>группа 2</td>\n",
              "    </tr>\n",
              "    <tr>\n",
              "      <th>3</th>\n",
              "      <td>0</td>\n",
              "      <td>30</td>\n",
              "      <td>0.036050</td>\n",
              "      <td>3300.0</td>\n",
              "      <td>5</td>\n",
              "      <td>0</td>\n",
              "      <td>0.0</td>\n",
              "      <td>группа 1</td>\n",
              "    </tr>\n",
              "    <tr>\n",
              "      <th>4</th>\n",
              "      <td>0</td>\n",
              "      <td>49</td>\n",
              "      <td>0.024926</td>\n",
              "      <td>63588.0</td>\n",
              "      <td>7</td>\n",
              "      <td>1</td>\n",
              "      <td>0.0</td>\n",
              "      <td>группа 2</td>\n",
              "    </tr>\n",
              "  </tbody>\n",
              "</table>\n",
              "</div>\n",
              "      <button class=\"colab-df-convert\" onclick=\"convertToInteractive('df-6ae92fdb-ca9e-47c0-aff7-5fc944619af5')\"\n",
              "              title=\"Convert this dataframe to an interactive table.\"\n",
              "              style=\"display:none;\">\n",
              "        \n",
              "  <svg xmlns=\"http://www.w3.org/2000/svg\" height=\"24px\"viewBox=\"0 0 24 24\"\n",
              "       width=\"24px\">\n",
              "    <path d=\"M0 0h24v24H0V0z\" fill=\"none\"/>\n",
              "    <path d=\"M18.56 5.44l.94 2.06.94-2.06 2.06-.94-2.06-.94-.94-2.06-.94 2.06-2.06.94zm-11 1L8.5 8.5l.94-2.06 2.06-.94-2.06-.94L8.5 2.5l-.94 2.06-2.06.94zm10 10l.94 2.06.94-2.06 2.06-.94-2.06-.94-.94-2.06-.94 2.06-2.06.94z\"/><path d=\"M17.41 7.96l-1.37-1.37c-.4-.4-.92-.59-1.43-.59-.52 0-1.04.2-1.43.59L10.3 9.45l-7.72 7.72c-.78.78-.78 2.05 0 2.83L4 21.41c.39.39.9.59 1.41.59.51 0 1.02-.2 1.41-.59l7.78-7.78 2.81-2.81c.8-.78.8-2.07 0-2.86zM5.41 20L4 18.59l7.72-7.72 1.47 1.35L5.41 20z\"/>\n",
              "  </svg>\n",
              "      </button>\n",
              "      \n",
              "  <style>\n",
              "    .colab-df-container {\n",
              "      display:flex;\n",
              "      flex-wrap:wrap;\n",
              "      gap: 12px;\n",
              "    }\n",
              "\n",
              "    .colab-df-convert {\n",
              "      background-color: #E8F0FE;\n",
              "      border: none;\n",
              "      border-radius: 50%;\n",
              "      cursor: pointer;\n",
              "      display: none;\n",
              "      fill: #1967D2;\n",
              "      height: 32px;\n",
              "      padding: 0 0 0 0;\n",
              "      width: 32px;\n",
              "    }\n",
              "\n",
              "    .colab-df-convert:hover {\n",
              "      background-color: #E2EBFA;\n",
              "      box-shadow: 0px 1px 2px rgba(60, 64, 67, 0.3), 0px 1px 3px 1px rgba(60, 64, 67, 0.15);\n",
              "      fill: #174EA6;\n",
              "    }\n",
              "\n",
              "    [theme=dark] .colab-df-convert {\n",
              "      background-color: #3B4455;\n",
              "      fill: #D2E3FC;\n",
              "    }\n",
              "\n",
              "    [theme=dark] .colab-df-convert:hover {\n",
              "      background-color: #434B5C;\n",
              "      box-shadow: 0px 1px 3px 1px rgba(0, 0, 0, 0.15);\n",
              "      filter: drop-shadow(0px 1px 2px rgba(0, 0, 0, 0.3));\n",
              "      fill: #FFFFFF;\n",
              "    }\n",
              "  </style>\n",
              "\n",
              "      <script>\n",
              "        const buttonEl =\n",
              "          document.querySelector('#df-6ae92fdb-ca9e-47c0-aff7-5fc944619af5 button.colab-df-convert');\n",
              "        buttonEl.style.display =\n",
              "          google.colab.kernel.accessAllowed ? 'block' : 'none';\n",
              "\n",
              "        async function convertToInteractive(key) {\n",
              "          const element = document.querySelector('#df-6ae92fdb-ca9e-47c0-aff7-5fc944619af5');\n",
              "          const dataTable =\n",
              "            await google.colab.kernel.invokeFunction('convertToInteractive',\n",
              "                                                     [key], {});\n",
              "          if (!dataTable) return;\n",
              "\n",
              "          const docLinkHtml = 'Like what you see? Visit the ' +\n",
              "            '<a target=\"_blank\" href=https://colab.research.google.com/notebooks/data_table.ipynb>data table notebook</a>'\n",
              "            + ' to learn more about interactive tables.';\n",
              "          element.innerHTML = '';\n",
              "          dataTable['output_type'] = 'display_data';\n",
              "          await google.colab.output.renderOutput(dataTable, element);\n",
              "          const docLink = document.createElement('div');\n",
              "          docLink.innerHTML = docLinkHtml;\n",
              "          element.appendChild(docLink);\n",
              "        }\n",
              "      </script>\n",
              "    </div>\n",
              "  </div>\n",
              "  "
            ]
          },
          "metadata": {},
          "execution_count": 191
        }
      ]
    },
    {
      "cell_type": "markdown",
      "metadata": {
        "id": "UIe-sOOGdKs_"
      },
      "source": [
        "## Задача 8"
      ]
    },
    {
      "cell_type": "markdown",
      "source": [
        "Вычислите количество заемщиков в каждой группе нового вычисленного признака `age_group` с помощью метода `value_counts`:"
      ],
      "metadata": {
        "id": "-SLWHLQAeVfl"
      }
    },
    {
      "cell_type": "code",
      "metadata": {
        "id": "bqk4zcxzdKs_",
        "colab": {
          "base_uri": "https://localhost:8080/"
        },
        "outputId": "9a6dfa5e-eb3f-4ddf-8694-a07582932b1f"
      },
      "source": [
        "df['age_group'].value_counts()"
      ],
      "execution_count": null,
      "outputs": [
        {
          "output_type": "execute_result",
          "data": {
            "text/plain": [
              "группа 3    79866\n",
              "группа 2    59376\n",
              "группа 1    10758\n",
              "Name: age_group, dtype: int64"
            ]
          },
          "metadata": {},
          "execution_count": 192
        }
      ]
    },
    {
      "cell_type": "markdown",
      "source": [
        "```\n",
        "3    79866\n",
        "2    59376\n",
        "1    10758\n",
        "Name: age_group, dtype: int64\n",
        "```"
      ],
      "metadata": {
        "id": "EYmnay8JY6TO"
      }
    },
    {
      "cell_type": "markdown",
      "metadata": {
        "id": "dYIbwaKndKs_"
      },
      "source": [
        "## Задача 9"
      ]
    },
    {
      "cell_type": "markdown",
      "source": [
        "Посчитайте долю заемщиков, которые не вернули кредит, в каждой из вычисленных возрастных групп (группировка по возрастной группе и применение метода `mean` к колонке `defaulted`):"
      ],
      "metadata": {
        "id": "0QdedBNVeX0o"
      }
    },
    {
      "cell_type": "code",
      "source": [
        "# распределение заемщиков по группам\n",
        "z = df['age_group'].value_counts()\n",
        "z"
      ],
      "metadata": {
        "colab": {
          "base_uri": "https://localhost:8080/"
        },
        "id": "4S569zEPJcR0",
        "outputId": "63a0f8bb-2381-4811-dc25-40f76499ddb5"
      },
      "execution_count": null,
      "outputs": [
        {
          "output_type": "execute_result",
          "data": {
            "text/plain": [
              "группа 3    79866\n",
              "группа 2    59376\n",
              "группа 1    10758\n",
              "Name: age_group, dtype: int64"
            ]
          },
          "metadata": {},
          "execution_count": 193
        }
      ]
    },
    {
      "cell_type": "code",
      "source": [
        "# распределение дефолных заемщиков по группам\n",
        "default_table = df[df['defaulted'] == 1]\n",
        "default_table['age_group'].value_counts()"
      ],
      "metadata": {
        "colab": {
          "base_uri": "https://localhost:8080/"
        },
        "id": "5PO9VMsuJWqC",
        "outputId": "34ee143c-9899-480d-ac71-09aaa53ba96a"
      },
      "execution_count": null,
      "outputs": [
        {
          "output_type": "execute_result",
          "data": {
            "text/plain": [
              "группа 2    5283\n",
              "группа 3    3499\n",
              "группа 1    1244\n",
              "Name: age_group, dtype: int64"
            ]
          },
          "metadata": {},
          "execution_count": 194
        }
      ]
    },
    {
      "cell_type": "code",
      "metadata": {
        "id": "KD0nUE4BdKtA",
        "colab": {
          "base_uri": "https://localhost:8080/"
        },
        "outputId": "374c06ce-b2e5-4136-e6e1-1455449ce9ec"
      },
      "source": [
        "# или без создания промежуточной таблицы\n",
        "df[df['defaulted'] == 1]['age_group'].value_counts()\n"
      ],
      "execution_count": null,
      "outputs": [
        {
          "output_type": "execute_result",
          "data": {
            "text/plain": [
              "группа 2    5283\n",
              "группа 3    3499\n",
              "группа 1    1244\n",
              "Name: age_group, dtype: int64"
            ]
          },
          "metadata": {},
          "execution_count": 195
        }
      ]
    },
    {
      "cell_type": "code",
      "source": [
        "df[df['age_group']=='группа 1']['defaulted'].mean()"
      ],
      "metadata": {
        "colab": {
          "base_uri": "https://localhost:8080/"
        },
        "id": "kTjUfvnMmd7Q",
        "outputId": "18cc98cb-449d-416a-9b2f-0426018b4b35"
      },
      "execution_count": null,
      "outputs": [
        {
          "output_type": "execute_result",
          "data": {
            "text/plain": [
              "0.11563487637107268"
            ]
          },
          "metadata": {},
          "execution_count": 196
        }
      ]
    },
    {
      "cell_type": "code",
      "source": [
        "df[df['age_group']=='группа 2']['defaulted'].mean()"
      ],
      "metadata": {
        "colab": {
          "base_uri": "https://localhost:8080/"
        },
        "id": "-WYHvl7bm4R7",
        "outputId": "2467c4b6-576d-4756-b8c1-e9d5bb25b9d3"
      },
      "execution_count": null,
      "outputs": [
        {
          "output_type": "execute_result",
          "data": {
            "text/plain": [
              "0.08897534357316088"
            ]
          },
          "metadata": {},
          "execution_count": 197
        }
      ]
    },
    {
      "cell_type": "code",
      "source": [
        "df[df['age_group']=='группа 3']['defaulted'].mean()"
      ],
      "metadata": {
        "colab": {
          "base_uri": "https://localhost:8080/"
        },
        "id": "hzKbE2rGm8tp",
        "outputId": "c33f9c2d-e3ee-4c2c-84dd-971dea18b608"
      },
      "execution_count": null,
      "outputs": [
        {
          "output_type": "execute_result",
          "data": {
            "text/plain": [
              "0.04381088322940926"
            ]
          },
          "metadata": {},
          "execution_count": 198
        }
      ]
    },
    {
      "cell_type": "code",
      "source": [
        "result = {'группа 1': df[df['age_group']=='группа 1']['defaulted'].mean(), \n",
        "     'группа 2': df[df['age_group']=='группа 2']['defaulted'].mean(), \n",
        "     'группа 3': df[df['age_group']=='группа 3']['defaulted'].mean()}\n",
        "result"
      ],
      "metadata": {
        "colab": {
          "base_uri": "https://localhost:8080/"
        },
        "id": "gPJMetchnVQ7",
        "outputId": "858c1565-7e31-4521-f2fe-eacc70495a6d"
      },
      "execution_count": null,
      "outputs": [
        {
          "output_type": "execute_result",
          "data": {
            "text/plain": [
              "{'группа 1': 0.11563487637107268,\n",
              " 'группа 2': 0.08897534357316088,\n",
              " 'группа 3': 0.04381088322940926}"
            ]
          },
          "metadata": {},
          "execution_count": 199
        }
      ]
    },
    {
      "cell_type": "code",
      "source": [
        "result_lst = np.array([\n",
        "    df[df['age_group']=='группа 1']['defaulted'].mean(), \n",
        "    df[df['age_group']=='группа 2']['defaulted'].mean(), \n",
        "    df[df['age_group']=='группа 3']['defaulted'].mean()])\n",
        "result_lst"
      ],
      "metadata": {
        "colab": {
          "base_uri": "https://localhost:8080/"
        },
        "id": "LLHzqAHWoWDx",
        "outputId": "ef20e966-da5d-420b-9d7e-204b1fed85ed"
      },
      "execution_count": null,
      "outputs": [
        {
          "output_type": "execute_result",
          "data": {
            "text/plain": [
              "array([0.11563488, 0.08897534, 0.04381088])"
            ]
          },
          "metadata": {},
          "execution_count": 200
        }
      ]
    },
    {
      "cell_type": "code",
      "source": [
        "# решим задачу с использованием функции groupby \n",
        "grouper = df.groupby(['age_group'])\n",
        "print(grouper)"
      ],
      "metadata": {
        "colab": {
          "base_uri": "https://localhost:8080/"
        },
        "id": "OWBBQ3J0HcW_",
        "outputId": "c515c352-4055-4603-80fe-e4f8a2d13813"
      },
      "execution_count": null,
      "outputs": [
        {
          "output_type": "stream",
          "name": "stdout",
          "text": [
            "<pandas.core.groupby.generic.DataFrameGroupBy object at 0x7ff66e2e5b90>\n"
          ]
        }
      ]
    },
    {
      "cell_type": "code",
      "source": [
        "# т.е. вывод df после groupby не имеет смысла \n",
        "# без функции агрегации к определенным полям\n",
        "df_0 = pd.DataFrame(grouper)\n",
        "display(df_0)"
      ],
      "metadata": {
        "colab": {
          "base_uri": "https://localhost:8080/",
          "height": 143
        },
        "id": "DBedO6_yM1wO",
        "outputId": "8f4fb41d-58ab-4184-e199-91f4cc73d934"
      },
      "execution_count": null,
      "outputs": [
        {
          "output_type": "display_data",
          "data": {
            "text/plain": [
              "          0                                                  1\n",
              "0  группа 1          defaulted  age   DebtRatio  MonthlyInc...\n",
              "1  группа 2          defaulted  age    DebtRatio  MonthlyIn...\n",
              "2  группа 3          defaulted  age    DebtRatio  MonthlyIn..."
            ],
            "text/html": [
              "\n",
              "  <div id=\"df-150f6a01-25d2-48e7-a2d0-354f3aeccf63\">\n",
              "    <div class=\"colab-df-container\">\n",
              "      <div>\n",
              "<style scoped>\n",
              "    .dataframe tbody tr th:only-of-type {\n",
              "        vertical-align: middle;\n",
              "    }\n",
              "\n",
              "    .dataframe tbody tr th {\n",
              "        vertical-align: top;\n",
              "    }\n",
              "\n",
              "    .dataframe thead th {\n",
              "        text-align: right;\n",
              "    }\n",
              "</style>\n",
              "<table border=\"1\" class=\"dataframe\">\n",
              "  <thead>\n",
              "    <tr style=\"text-align: right;\">\n",
              "      <th></th>\n",
              "      <th>0</th>\n",
              "      <th>1</th>\n",
              "    </tr>\n",
              "  </thead>\n",
              "  <tbody>\n",
              "    <tr>\n",
              "      <th>0</th>\n",
              "      <td>группа 1</td>\n",
              "      <td>defaulted  age   DebtRatio  MonthlyInc...</td>\n",
              "    </tr>\n",
              "    <tr>\n",
              "      <th>1</th>\n",
              "      <td>группа 2</td>\n",
              "      <td>defaulted  age    DebtRatio  MonthlyIn...</td>\n",
              "    </tr>\n",
              "    <tr>\n",
              "      <th>2</th>\n",
              "      <td>группа 3</td>\n",
              "      <td>defaulted  age    DebtRatio  MonthlyIn...</td>\n",
              "    </tr>\n",
              "  </tbody>\n",
              "</table>\n",
              "</div>\n",
              "      <button class=\"colab-df-convert\" onclick=\"convertToInteractive('df-150f6a01-25d2-48e7-a2d0-354f3aeccf63')\"\n",
              "              title=\"Convert this dataframe to an interactive table.\"\n",
              "              style=\"display:none;\">\n",
              "        \n",
              "  <svg xmlns=\"http://www.w3.org/2000/svg\" height=\"24px\"viewBox=\"0 0 24 24\"\n",
              "       width=\"24px\">\n",
              "    <path d=\"M0 0h24v24H0V0z\" fill=\"none\"/>\n",
              "    <path d=\"M18.56 5.44l.94 2.06.94-2.06 2.06-.94-2.06-.94-.94-2.06-.94 2.06-2.06.94zm-11 1L8.5 8.5l.94-2.06 2.06-.94-2.06-.94L8.5 2.5l-.94 2.06-2.06.94zm10 10l.94 2.06.94-2.06 2.06-.94-2.06-.94-.94-2.06-.94 2.06-2.06.94z\"/><path d=\"M17.41 7.96l-1.37-1.37c-.4-.4-.92-.59-1.43-.59-.52 0-1.04.2-1.43.59L10.3 9.45l-7.72 7.72c-.78.78-.78 2.05 0 2.83L4 21.41c.39.39.9.59 1.41.59.51 0 1.02-.2 1.41-.59l7.78-7.78 2.81-2.81c.8-.78.8-2.07 0-2.86zM5.41 20L4 18.59l7.72-7.72 1.47 1.35L5.41 20z\"/>\n",
              "  </svg>\n",
              "      </button>\n",
              "      \n",
              "  <style>\n",
              "    .colab-df-container {\n",
              "      display:flex;\n",
              "      flex-wrap:wrap;\n",
              "      gap: 12px;\n",
              "    }\n",
              "\n",
              "    .colab-df-convert {\n",
              "      background-color: #E8F0FE;\n",
              "      border: none;\n",
              "      border-radius: 50%;\n",
              "      cursor: pointer;\n",
              "      display: none;\n",
              "      fill: #1967D2;\n",
              "      height: 32px;\n",
              "      padding: 0 0 0 0;\n",
              "      width: 32px;\n",
              "    }\n",
              "\n",
              "    .colab-df-convert:hover {\n",
              "      background-color: #E2EBFA;\n",
              "      box-shadow: 0px 1px 2px rgba(60, 64, 67, 0.3), 0px 1px 3px 1px rgba(60, 64, 67, 0.15);\n",
              "      fill: #174EA6;\n",
              "    }\n",
              "\n",
              "    [theme=dark] .colab-df-convert {\n",
              "      background-color: #3B4455;\n",
              "      fill: #D2E3FC;\n",
              "    }\n",
              "\n",
              "    [theme=dark] .colab-df-convert:hover {\n",
              "      background-color: #434B5C;\n",
              "      box-shadow: 0px 1px 3px 1px rgba(0, 0, 0, 0.15);\n",
              "      filter: drop-shadow(0px 1px 2px rgba(0, 0, 0, 0.3));\n",
              "      fill: #FFFFFF;\n",
              "    }\n",
              "  </style>\n",
              "\n",
              "      <script>\n",
              "        const buttonEl =\n",
              "          document.querySelector('#df-150f6a01-25d2-48e7-a2d0-354f3aeccf63 button.colab-df-convert');\n",
              "        buttonEl.style.display =\n",
              "          google.colab.kernel.accessAllowed ? 'block' : 'none';\n",
              "\n",
              "        async function convertToInteractive(key) {\n",
              "          const element = document.querySelector('#df-150f6a01-25d2-48e7-a2d0-354f3aeccf63');\n",
              "          const dataTable =\n",
              "            await google.colab.kernel.invokeFunction('convertToInteractive',\n",
              "                                                     [key], {});\n",
              "          if (!dataTable) return;\n",
              "\n",
              "          const docLinkHtml = 'Like what you see? Visit the ' +\n",
              "            '<a target=\"_blank\" href=https://colab.research.google.com/notebooks/data_table.ipynb>data table notebook</a>'\n",
              "            + ' to learn more about interactive tables.';\n",
              "          element.innerHTML = '';\n",
              "          dataTable['output_type'] = 'display_data';\n",
              "          await google.colab.output.renderOutput(dataTable, element);\n",
              "          const docLink = document.createElement('div');\n",
              "          docLink.innerHTML = docLinkHtml;\n",
              "          element.appendChild(docLink);\n",
              "        }\n",
              "      </script>\n",
              "    </div>\n",
              "  </div>\n",
              "  "
            ]
          },
          "metadata": {}
        }
      ]
    },
    {
      "cell_type": "code",
      "source": [
        "# решим задачу с использованием функции groupby и сравним результаты\n",
        "grouper = df.groupby(['age_group'])\n",
        "grouper['defaulted'].mean()\n",
        "# или в одну строку\n",
        "df.groupby(['age_group'])['defaulted'].mean()"
      ],
      "metadata": {
        "colab": {
          "base_uri": "https://localhost:8080/"
        },
        "id": "MfXy-3jdd8QZ",
        "outputId": "dd47fdc1-a58b-44f9-c067-510675905fea"
      },
      "execution_count": null,
      "outputs": [
        {
          "output_type": "execute_result",
          "data": {
            "text/plain": [
              "age_group\n",
              "группа 1    0.115635\n",
              "группа 2    0.088975\n",
              "группа 3    0.043811\n",
              "Name: defaulted, dtype: float64"
            ]
          },
          "metadata": {},
          "execution_count": 203
        }
      ]
    },
    {
      "cell_type": "markdown",
      "metadata": {
        "id": "x-BCEZc7dKtA"
      },
      "source": [
        "## Задача 10"
      ]
    },
    {
      "cell_type": "markdown",
      "source": [
        "Визуализируйте полученные данные в виде гистограммы. Добавьте сетку на график, дайте графику название:"
      ],
      "metadata": {
        "id": "17UyfgUOejKK"
      }
    },
    {
      "cell_type": "code",
      "metadata": {
        "id": "Zjus1bJSdKtA"
      },
      "source": [
        "# Импортируем модуль для визуализации данных\n",
        "from matplotlib import pyplot as plt\n",
        "import numpy as np\n",
        "%matplotlib inline"
      ],
      "execution_count": null,
      "outputs": []
    },
    {
      "cell_type": "code",
      "source": [
        "result_lst = result_lst * 100\n",
        "result_lst"
      ],
      "metadata": {
        "colab": {
          "base_uri": "https://localhost:8080/"
        },
        "id": "XWiUGWE5qFiP",
        "outputId": "5c2de6a7-b5ad-43e6-dd6d-61827d971632"
      },
      "execution_count": null,
      "outputs": [
        {
          "output_type": "execute_result",
          "data": {
            "text/plain": [
              "array([11.56348764,  8.89753436,  4.38108832])"
            ]
          },
          "metadata": {},
          "execution_count": 205
        }
      ]
    },
    {
      "cell_type": "code",
      "metadata": {
        "id": "9J9aWeh7dKtA",
        "colab": {
          "base_uri": "https://localhost:8080/",
          "height": 430
        },
        "outputId": "667a4df7-1184-4bdb-a8eb-641ee8a4a54d"
      },
      "source": [
        "x = np.array(['группа 1', 'группа 2', 'группа 3'])\n",
        "y = np.array(result_lst)\n",
        "fig = plt.figure(\n",
        "    figsize=(6,4),  \n",
        "    #facecolor='whitesmoke',  \n",
        "    dpi=100\n",
        ")\n",
        "\n",
        "plt.suptitle('Доля дефолтных кредитов по возрастным группам заемщиков', fontsize=12)\n",
        "plt.xlabel('Возрастные группы')\n",
        "plt.ylabel('%')\n",
        "plt.bar(x, y, color = \"red\")\n",
        "plt.grid(color = 'gray', linestyle = '--', linewidth = 0.5)\n",
        "plt.show()"
      ],
      "execution_count": null,
      "outputs": [
        {
          "output_type": "display_data",
          "data": {
            "text/plain": [
              "<Figure size 600x400 with 1 Axes>"
            ],
            "image/png": "[encoded data removed]"
          },
          "metadata": {
            "needs_background": "light"
          }
        }
      ]
    },
    {
      "cell_type": "markdown",
      "metadata": {
        "id": "deEBZ0v7dKtB"
      },
      "source": [
        "## Задача 11"
      ]
    },
    {
      "cell_type": "markdown",
      "source": [
        "Какие выводы вы можете сделать? С увеличением возраста заемщика риск невозврата кредита становится больше или меньше? Дайте ответ на вопрос в текстовой ячейке ниже:"
      ],
      "metadata": {
        "id": "Qtxk_V6Hem6q"
      }
    },
    {
      "cell_type": "markdown",
      "metadata": {
        "id": "89NKup8voVna"
      },
      "source": [
        "**Ответ:**\n",
        "Можно заметить, что с увеличем возраста риск невозврата кредита становится меньше. Этому возможно способствуют следующие объективные факторы: \n",
        "1. с возврастом заемщики становятся более опытными и лучше планируют свои доходы и расходы;\n",
        "2. увеличение количества социальных ролей повышает общий уровень ответственности;\n",
        "3. с возврастом заемщики обычно становятся более платежеспособными. \n"
      ]
    },
    {
      "cell_type": "markdown",
      "metadata": {
        "id": "I89l2WAsdKtB"
      },
      "source": [
        "## Задача 12"
      ]
    },
    {
      "cell_type": "markdown",
      "source": [
        "Вычислите новый признак `alone_and_poor`, который равен `1` у заемщиков, которые не содержат никого, кроме себя (`NumberOfDependents == 0`) и у которых месячный доход (`MonthlyIncome`) меньше 10% квантили по этому признаку среди всех заемщиков. Иначе этот признак сделайте равным 0.\n",
        "\n",
        "Для этого напишите функцию `calculate_alone_and_poor`, в которой вы будете принимать строку, доставать нужные поля у этой строки, и проверять перечисленные выше условия.\n",
        "\n",
        "Заранее посчитайте значение 10% квантили по столбцу `MonthlyIncome`, и передайте это значение в функцию как аргумент по-умолчанию.\n",
        "\n",
        "Затем полученную функцию примените ко всему датафрейму с помощью метода `apply`. Не забудьте указать параметр `axis=1` в методе `apply` (применять переданную функцию ко строкам), иначе код упадет с ошибкой."
      ],
      "metadata": {
        "id": "TaSzKeuSeuOd"
      }
    },
    {
      "cell_type": "code",
      "metadata": {
        "id": "-gX1A2iRdKtB"
      },
      "source": [
        "# 10%-квантиль\n",
        "# Pandas DataFrame quantile() Method https://www.w3schools.com/python/pandas/ref_df_quantile.asp\n",
        "# df['age_group'] = df.apply(lambda y: calculate_age_group(y['age']), axis = 1)"
      ],
      "execution_count": null,
      "outputs": []
    },
    {
      "cell_type": "code",
      "metadata": {
        "id": "1mBNA7S6dKtC",
        "colab": {
          "base_uri": "https://localhost:8080/"
        },
        "outputId": "91468195-6843-4fd8-cde2-7070a11d24b2"
      },
      "source": [
        "from pandas.core.array_algos import quantile\n",
        "arr = df['MonthlyIncome']\n",
        "quant10 = arr.quantile(0.1)\n",
        "quant10             "
      ],
      "execution_count": null,
      "outputs": [
        {
          "output_type": "execute_result",
          "data": {
            "text/plain": [
              "2005.0"
            ]
          },
          "metadata": {},
          "execution_count": 208
        }
      ]
    },
    {
      "cell_type": "code",
      "source": [
        "df.head(2)"
      ],
      "metadata": {
        "colab": {
          "base_uri": "https://localhost:8080/",
          "height": 176
        },
        "id": "FenjsmreBUy1",
        "outputId": "b011ed46-f8e5-4bbb-ebd8-71b4407f6276"
      },
      "execution_count": null,
      "outputs": [
        {
          "output_type": "execute_result",
          "data": {
            "text/plain": [
              "   defaulted  age  DebtRatio  MonthlyIncome  NumberOfOpenCreditLinesAndLoans  \\\n",
              "0          1   45   0.802982         9120.0                               13   \n",
              "1          0   40   0.121876         2600.0                                4   \n",
              "\n",
              "   NumberRealEstateLoansOrLines  NumberOfDependents age_group  \n",
              "0                             6                 2.0  группа 2  \n",
              "1                             0                 1.0  группа 2  "
            ],
            "text/html": [
              "\n",
              "  <div id=\"df-5f398c9d-c93a-454c-a02b-162b6c37bd0c\">\n",
              "    <div class=\"colab-df-container\">\n",
              "      <div>\n",
              "<style scoped>\n",
              "    .dataframe tbody tr th:only-of-type {\n",
              "        vertical-align: middle;\n",
              "    }\n",
              "\n",
              "    .dataframe tbody tr th {\n",
              "        vertical-align: top;\n",
              "    }\n",
              "\n",
              "    .dataframe thead th {\n",
              "        text-align: right;\n",
              "    }\n",
              "</style>\n",
              "<table border=\"1\" class=\"dataframe\">\n",
              "  <thead>\n",
              "    <tr style=\"text-align: right;\">\n",
              "      <th></th>\n",
              "      <th>defaulted</th>\n",
              "      <th>age</th>\n",
              "      <th>DebtRatio</th>\n",
              "      <th>MonthlyIncome</th>\n",
              "      <th>NumberOfOpenCreditLinesAndLoans</th>\n",
              "      <th>NumberRealEstateLoansOrLines</th>\n",
              "      <th>NumberOfDependents</th>\n",
              "      <th>age_group</th>\n",
              "    </tr>\n",
              "  </thead>\n",
              "  <tbody>\n",
              "    <tr>\n",
              "      <th>0</th>\n",
              "      <td>1</td>\n",
              "      <td>45</td>\n",
              "      <td>0.802982</td>\n",
              "      <td>9120.0</td>\n",
              "      <td>13</td>\n",
              "      <td>6</td>\n",
              "      <td>2.0</td>\n",
              "      <td>группа 2</td>\n",
              "    </tr>\n",
              "    <tr>\n",
              "      <th>1</th>\n",
              "      <td>0</td>\n",
              "      <td>40</td>\n",
              "      <td>0.121876</td>\n",
              "      <td>2600.0</td>\n",
              "      <td>4</td>\n",
              "      <td>0</td>\n",
              "      <td>1.0</td>\n",
              "      <td>группа 2</td>\n",
              "    </tr>\n",
              "  </tbody>\n",
              "</table>\n",
              "</div>\n",
              "      <button class=\"colab-df-convert\" onclick=\"convertToInteractive('df-5f398c9d-c93a-454c-a02b-162b6c37bd0c')\"\n",
              "              title=\"Convert this dataframe to an interactive table.\"\n",
              "              style=\"display:none;\">\n",
              "        \n",
              "  <svg xmlns=\"http://www.w3.org/2000/svg\" height=\"24px\"viewBox=\"0 0 24 24\"\n",
              "       width=\"24px\">\n",
              "    <path d=\"M0 0h24v24H0V0z\" fill=\"none\"/>\n",
              "    <path d=\"M18.56 5.44l.94 2.06.94-2.06 2.06-.94-2.06-.94-.94-2.06-.94 2.06-2.06.94zm-11 1L8.5 8.5l.94-2.06 2.06-.94-2.06-.94L8.5 2.5l-.94 2.06-2.06.94zm10 10l.94 2.06.94-2.06 2.06-.94-2.06-.94-.94-2.06-.94 2.06-2.06.94z\"/><path d=\"M17.41 7.96l-1.37-1.37c-.4-.4-.92-.59-1.43-.59-.52 0-1.04.2-1.43.59L10.3 9.45l-7.72 7.72c-.78.78-.78 2.05 0 2.83L4 21.41c.39.39.9.59 1.41.59.51 0 1.02-.2 1.41-.59l7.78-7.78 2.81-2.81c.8-.78.8-2.07 0-2.86zM5.41 20L4 18.59l7.72-7.72 1.47 1.35L5.41 20z\"/>\n",
              "  </svg>\n",
              "      </button>\n",
              "      \n",
              "  <style>\n",
              "    .colab-df-container {\n",
              "      display:flex;\n",
              "      flex-wrap:wrap;\n",
              "      gap: 12px;\n",
              "    }\n",
              "\n",
              "    .colab-df-convert {\n",
              "      background-color: #E8F0FE;\n",
              "      border: none;\n",
              "      border-radius: 50%;\n",
              "      cursor: pointer;\n",
              "      display: none;\n",
              "      fill: #1967D2;\n",
              "      height: 32px;\n",
              "      padding: 0 0 0 0;\n",
              "      width: 32px;\n",
              "    }\n",
              "\n",
              "    .colab-df-convert:hover {\n",
              "      background-color: #E2EBFA;\n",
              "      box-shadow: 0px 1px 2px rgba(60, 64, 67, 0.3), 0px 1px 3px 1px rgba(60, 64, 67, 0.15);\n",
              "      fill: #174EA6;\n",
              "    }\n",
              "\n",
              "    [theme=dark] .colab-df-convert {\n",
              "      background-color: #3B4455;\n",
              "      fill: #D2E3FC;\n",
              "    }\n",
              "\n",
              "    [theme=dark] .colab-df-convert:hover {\n",
              "      background-color: #434B5C;\n",
              "      box-shadow: 0px 1px 3px 1px rgba(0, 0, 0, 0.15);\n",
              "      filter: drop-shadow(0px 1px 2px rgba(0, 0, 0, 0.3));\n",
              "      fill: #FFFFFF;\n",
              "    }\n",
              "  </style>\n",
              "\n",
              "      <script>\n",
              "        const buttonEl =\n",
              "          document.querySelector('#df-5f398c9d-c93a-454c-a02b-162b6c37bd0c button.colab-df-convert');\n",
              "        buttonEl.style.display =\n",
              "          google.colab.kernel.accessAllowed ? 'block' : 'none';\n",
              "\n",
              "        async function convertToInteractive(key) {\n",
              "          const element = document.querySelector('#df-5f398c9d-c93a-454c-a02b-162b6c37bd0c');\n",
              "          const dataTable =\n",
              "            await google.colab.kernel.invokeFunction('convertToInteractive',\n",
              "                                                     [key], {});\n",
              "          if (!dataTable) return;\n",
              "\n",
              "          const docLinkHtml = 'Like what you see? Visit the ' +\n",
              "            '<a target=\"_blank\" href=https://colab.research.google.com/notebooks/data_table.ipynb>data table notebook</a>'\n",
              "            + ' to learn more about interactive tables.';\n",
              "          element.innerHTML = '';\n",
              "          dataTable['output_type'] = 'display_data';\n",
              "          await google.colab.output.renderOutput(dataTable, element);\n",
              "          const docLink = document.createElement('div');\n",
              "          docLink.innerHTML = docLinkHtml;\n",
              "          element.appendChild(docLink);\n",
              "        }\n",
              "      </script>\n",
              "    </div>\n",
              "  </div>\n",
              "  "
            ]
          },
          "metadata": {},
          "execution_count": 209
        }
      ]
    },
    {
      "cell_type": "code",
      "metadata": {
        "id": "x4QpASAIdKtB",
        "colab": {
          "base_uri": "https://localhost:8080/",
          "height": 270
        },
        "outputId": "158d935a-1786-4d6a-af51-f2d9572367d7"
      },
      "source": [
        "def calculate_alone_and_poor(Number, Income):\n",
        "  if Number == 0 and Income < quant10:\n",
        "    return 1\n",
        "  return 0\n",
        "\n",
        "df['alone_and_poor'] = df.apply(lambda y: calculate_alone_and_poor(y['NumberOfDependents'], y['MonthlyIncome']), axis = 1)\n",
        "df.head()"
      ],
      "execution_count": null,
      "outputs": [
        {
          "output_type": "execute_result",
          "data": {
            "text/plain": [
              "   defaulted  age  DebtRatio  MonthlyIncome  NumberOfOpenCreditLinesAndLoans  \\\n",
              "0          1   45   0.802982         9120.0                               13   \n",
              "1          0   40   0.121876         2600.0                                4   \n",
              "2          0   38   0.085113         3042.0                                2   \n",
              "3          0   30   0.036050         3300.0                                5   \n",
              "4          0   49   0.024926        63588.0                                7   \n",
              "\n",
              "   NumberRealEstateLoansOrLines  NumberOfDependents age_group  alone_and_poor  \n",
              "0                             6                 2.0  группа 2               0  \n",
              "1                             0                 1.0  группа 2               0  \n",
              "2                             0                 0.0  группа 2               0  \n",
              "3                             0                 0.0  группа 1               0  \n",
              "4                             1                 0.0  группа 2               0  "
            ],
            "text/html": [
              "\n",
              "  <div id=\"df-e1b5104a-1f06-459b-ac26-c4d72097e80a\">\n",
              "    <div class=\"colab-df-container\">\n",
              "      <div>\n",
              "<style scoped>\n",
              "    .dataframe tbody tr th:only-of-type {\n",
              "        vertical-align: middle;\n",
              "    }\n",
              "\n",
              "    .dataframe tbody tr th {\n",
              "        vertical-align: top;\n",
              "    }\n",
              "\n",
              "    .dataframe thead th {\n",
              "        text-align: right;\n",
              "    }\n",
              "</style>\n",
              "<table border=\"1\" class=\"dataframe\">\n",
              "  <thead>\n",
              "    <tr style=\"text-align: right;\">\n",
              "      <th></th>\n",
              "      <th>defaulted</th>\n",
              "      <th>age</th>\n",
              "      <th>DebtRatio</th>\n",
              "      <th>MonthlyIncome</th>\n",
              "      <th>NumberOfOpenCreditLinesAndLoans</th>\n",
              "      <th>NumberRealEstateLoansOrLines</th>\n",
              "      <th>NumberOfDependents</th>\n",
              "      <th>age_group</th>\n",
              "      <th>alone_and_poor</th>\n",
              "    </tr>\n",
              "  </thead>\n",
              "  <tbody>\n",
              "    <tr>\n",
              "      <th>0</th>\n",
              "      <td>1</td>\n",
              "      <td>45</td>\n",
              "      <td>0.802982</td>\n",
              "      <td>9120.0</td>\n",
              "      <td>13</td>\n",
              "      <td>6</td>\n",
              "      <td>2.0</td>\n",
              "      <td>группа 2</td>\n",
              "      <td>0</td>\n",
              "    </tr>\n",
              "    <tr>\n",
              "      <th>1</th>\n",
              "      <td>0</td>\n",
              "      <td>40</td>\n",
              "      <td>0.121876</td>\n",
              "      <td>2600.0</td>\n",
              "      <td>4</td>\n",
              "      <td>0</td>\n",
              "      <td>1.0</td>\n",
              "      <td>группа 2</td>\n",
              "      <td>0</td>\n",
              "    </tr>\n",
              "    <tr>\n",
              "      <th>2</th>\n",
              "      <td>0</td>\n",
              "      <td>38</td>\n",
              "      <td>0.085113</td>\n",
              "      <td>3042.0</td>\n",
              "      <td>2</td>\n",
              "      <td>0</td>\n",
              "      <td>0.0</td>\n",
              "      <td>группа 2</td>\n",
              "      <td>0</td>\n",
              "    </tr>\n",
              "    <tr>\n",
              "      <th>3</th>\n",
              "      <td>0</td>\n",
              "      <td>30</td>\n",
              "      <td>0.036050</td>\n",
              "      <td>3300.0</td>\n",
              "      <td>5</td>\n",
              "      <td>0</td>\n",
              "      <td>0.0</td>\n",
              "      <td>группа 1</td>\n",
              "      <td>0</td>\n",
              "    </tr>\n",
              "    <tr>\n",
              "      <th>4</th>\n",
              "      <td>0</td>\n",
              "      <td>49</td>\n",
              "      <td>0.024926</td>\n",
              "      <td>63588.0</td>\n",
              "      <td>7</td>\n",
              "      <td>1</td>\n",
              "      <td>0.0</td>\n",
              "      <td>группа 2</td>\n",
              "      <td>0</td>\n",
              "    </tr>\n",
              "  </tbody>\n",
              "</table>\n",
              "</div>\n",
              "      <button class=\"colab-df-convert\" onclick=\"convertToInteractive('df-e1b5104a-1f06-459b-ac26-c4d72097e80a')\"\n",
              "              title=\"Convert this dataframe to an interactive table.\"\n",
              "              style=\"display:none;\">\n",
              "        \n",
              "  <svg xmlns=\"http://www.w3.org/2000/svg\" height=\"24px\"viewBox=\"0 0 24 24\"\n",
              "       width=\"24px\">\n",
              "    <path d=\"M0 0h24v24H0V0z\" fill=\"none\"/>\n",
              "    <path d=\"M18.56 5.44l.94 2.06.94-2.06 2.06-.94-2.06-.94-.94-2.06-.94 2.06-2.06.94zm-11 1L8.5 8.5l.94-2.06 2.06-.94-2.06-.94L8.5 2.5l-.94 2.06-2.06.94zm10 10l.94 2.06.94-2.06 2.06-.94-2.06-.94-.94-2.06-.94 2.06-2.06.94z\"/><path d=\"M17.41 7.96l-1.37-1.37c-.4-.4-.92-.59-1.43-.59-.52 0-1.04.2-1.43.59L10.3 9.45l-7.72 7.72c-.78.78-.78 2.05 0 2.83L4 21.41c.39.39.9.59 1.41.59.51 0 1.02-.2 1.41-.59l7.78-7.78 2.81-2.81c.8-.78.8-2.07 0-2.86zM5.41 20L4 18.59l7.72-7.72 1.47 1.35L5.41 20z\"/>\n",
              "  </svg>\n",
              "      </button>\n",
              "      \n",
              "  <style>\n",
              "    .colab-df-container {\n",
              "      display:flex;\n",
              "      flex-wrap:wrap;\n",
              "      gap: 12px;\n",
              "    }\n",
              "\n",
              "    .colab-df-convert {\n",
              "      background-color: #E8F0FE;\n",
              "      border: none;\n",
              "      border-radius: 50%;\n",
              "      cursor: pointer;\n",
              "      display: none;\n",
              "      fill: #1967D2;\n",
              "      height: 32px;\n",
              "      padding: 0 0 0 0;\n",
              "      width: 32px;\n",
              "    }\n",
              "\n",
              "    .colab-df-convert:hover {\n",
              "      background-color: #E2EBFA;\n",
              "      box-shadow: 0px 1px 2px rgba(60, 64, 67, 0.3), 0px 1px 3px 1px rgba(60, 64, 67, 0.15);\n",
              "      fill: #174EA6;\n",
              "    }\n",
              "\n",
              "    [theme=dark] .colab-df-convert {\n",
              "      background-color: #3B4455;\n",
              "      fill: #D2E3FC;\n",
              "    }\n",
              "\n",
              "    [theme=dark] .colab-df-convert:hover {\n",
              "      background-color: #434B5C;\n",
              "      box-shadow: 0px 1px 3px 1px rgba(0, 0, 0, 0.15);\n",
              "      filter: drop-shadow(0px 1px 2px rgba(0, 0, 0, 0.3));\n",
              "      fill: #FFFFFF;\n",
              "    }\n",
              "  </style>\n",
              "\n",
              "      <script>\n",
              "        const buttonEl =\n",
              "          document.querySelector('#df-e1b5104a-1f06-459b-ac26-c4d72097e80a button.colab-df-convert');\n",
              "        buttonEl.style.display =\n",
              "          google.colab.kernel.accessAllowed ? 'block' : 'none';\n",
              "\n",
              "        async function convertToInteractive(key) {\n",
              "          const element = document.querySelector('#df-e1b5104a-1f06-459b-ac26-c4d72097e80a');\n",
              "          const dataTable =\n",
              "            await google.colab.kernel.invokeFunction('convertToInteractive',\n",
              "                                                     [key], {});\n",
              "          if (!dataTable) return;\n",
              "\n",
              "          const docLinkHtml = 'Like what you see? Visit the ' +\n",
              "            '<a target=\"_blank\" href=https://colab.research.google.com/notebooks/data_table.ipynb>data table notebook</a>'\n",
              "            + ' to learn more about interactive tables.';\n",
              "          element.innerHTML = '';\n",
              "          dataTable['output_type'] = 'display_data';\n",
              "          await google.colab.output.renderOutput(dataTable, element);\n",
              "          const docLink = document.createElement('div');\n",
              "          docLink.innerHTML = docLinkHtml;\n",
              "          element.appendChild(docLink);\n",
              "        }\n",
              "      </script>\n",
              "    </div>\n",
              "  </div>\n",
              "  "
            ]
          },
          "metadata": {},
          "execution_count": 210
        }
      ]
    },
    {
      "cell_type": "markdown",
      "metadata": {
        "id": "x7P_z7KYdKtC"
      },
      "source": [
        "Сколько получилось людей с признаком ```alone_and_poor``` равным 1?"
      ]
    },
    {
      "cell_type": "code",
      "metadata": {
        "id": "OjhMTSrydKtC",
        "colab": {
          "base_uri": "https://localhost:8080/"
        },
        "outputId": "54074bcb-7a1c-4b53-e7f9-b8e37490a251"
      },
      "source": [
        "# число людей с признаком alone_and_poor\n",
        "sum(df['alone_and_poor'] == 1)"
      ],
      "execution_count": null,
      "outputs": [
        {
          "output_type": "execute_result",
          "data": {
            "text/plain": [
              "8719"
            ]
          },
          "metadata": {},
          "execution_count": 211
        }
      ]
    },
    {
      "cell_type": "code",
      "source": [
        "# доля людей с признаком alone_and_poor, %\n",
        "df['alone_and_poor'].mean()*100"
      ],
      "metadata": {
        "colab": {
          "base_uri": "https://localhost:8080/"
        },
        "id": "nPliEc0CHrwx",
        "outputId": "0c51261a-1851-451d-8d2d-097756b09c38"
      },
      "execution_count": null,
      "outputs": [
        {
          "output_type": "execute_result",
          "data": {
            "text/plain": [
              "5.812666666666667"
            ]
          },
          "metadata": {},
          "execution_count": 212
        }
      ]
    },
    {
      "cell_type": "markdown",
      "metadata": {
        "id": "3_mIoa_OdKtC"
      },
      "source": [
        "# Визуализация данных"
      ]
    },
    {
      "cell_type": "markdown",
      "metadata": {
        "id": "hktewsS_dKtC"
      },
      "source": [
        "## Задача 13"
      ]
    },
    {
      "cell_type": "markdown",
      "source": [
        "Постройте гистограмму распределения возрастов всех заемщиков. Для этого вам может понадобиться метод `plot.hist()`. Обратите внимание, что у метода `hist()` есть параметр `bins`, который отвечает за мелкость разбиения гистограммы. Постройте два отдельных графика с параметрами `bins=10` и `bins=30`.\n",
        "\n",
        "Подпишите оси, добавьте сетку на графики, дайте графикам название.\n",
        "\n",
        "Также не забывайте, что чтобы картинка отрисовалась корректно, нужно последней строкой кода написать `plt.show()`."
      ],
      "metadata": {
        "id": "QFVHpkbvfJVn"
      }
    },
    {
      "cell_type": "code",
      "metadata": {
        "id": "gsM3gYpHdKtD"
      },
      "source": [
        "from matplotlib import pyplot as plt"
      ],
      "execution_count": null,
      "outputs": []
    },
    {
      "cell_type": "code",
      "source": [
        "# смелые банки выдавали кредиты, видимо, вслепую\n",
        "df['age'].max()"
      ],
      "metadata": {
        "colab": {
          "base_uri": "https://localhost:8080/"
        },
        "id": "sTPXvE-2JR7-",
        "outputId": "b43152a8-1cb7-4e42-b39b-feccdbe87cd9"
      },
      "execution_count": null,
      "outputs": [
        {
          "output_type": "execute_result",
          "data": {
            "text/plain": [
              "109"
            ]
          },
          "metadata": {},
          "execution_count": 214
        }
      ]
    },
    {
      "cell_type": "code",
      "source": [
        "# сформируем массив данных для графика\n",
        "age_arr = np.array(sorted(df['age']))\n",
        "age_arr"
      ],
      "metadata": {
        "colab": {
          "base_uri": "https://localhost:8080/"
        },
        "id": "bZnZV26vIVMN",
        "outputId": "a4e1347e-72e3-4aa5-aae4-c9858ebc8a4e"
      },
      "execution_count": null,
      "outputs": [
        {
          "output_type": "execute_result",
          "data": {
            "text/plain": [
              "array([  0,  21,  21, ..., 107, 109, 109])"
            ]
          },
          "metadata": {},
          "execution_count": 215
        }
      ]
    },
    {
      "cell_type": "code",
      "source": [
        "# Распределение заемщиков по возрасту, bins = 10\n",
        "fig = plt.figure(\n",
        "    figsize=(6,4),  \n",
        "    facecolor='whitesmoke',  \n",
        "    dpi=100\n",
        ")\n",
        "plt.suptitle('Распределение заемщиков по возрасту, bins = 10', fontsize=12)\n",
        "plt.xlabel('Возраст, лет')\n",
        "plt.ylabel('Численность, чел.')\n",
        "plt.hist(age_arr, bins = 10)\n",
        "plt.grid(color = 'gray', linestyle = '--', linewidth = 0.5)\n",
        "\n",
        "plt.show()"
      ],
      "metadata": {
        "colab": {
          "base_uri": "https://localhost:8080/",
          "height": 430
        },
        "id": "s7o-6K2RLSLf",
        "outputId": "bc9e62dd-eae5-427e-a4e6-acc3202fe6a5"
      },
      "execution_count": null,
      "outputs": [
        {
          "output_type": "display_data",
          "data": {
            "text/plain": [
              "<Figure size 600x400 with 1 Axes>"
            ],
            "image/png": "[encoded data removed]"
          },
          "metadata": {}
        }
      ]
    },
    {
      "cell_type": "code",
      "source": [
        "# Распределение заемщиков по возрасту, bins = 30\n",
        "fig = plt.figure(\n",
        "    figsize=(6,4),  \n",
        "    facecolor='whitesmoke',  \n",
        "    dpi=100\n",
        ")\n",
        "plt.suptitle('Распределение заемщиков по возрасту, bins = 30', fontsize=12)\n",
        "plt.xlabel('Возраст, лет')\n",
        "plt.ylabel('Численность, чел.')\n",
        "plt.hist(age_arr, color = \"red\", bins = 30)\n",
        "plt.grid(color = 'gray', linestyle = '--', linewidth = 0.5)\n",
        "\n",
        "plt.show()"
      ],
      "metadata": {
        "colab": {
          "base_uri": "https://localhost:8080/",
          "height": 430
        },
        "id": "G4aBFwGJJmM4",
        "outputId": "3402dc73-9da7-4cbd-d57a-faa24be47901"
      },
      "execution_count": null,
      "outputs": [
        {
          "output_type": "display_data",
          "data": {
            "text/plain": [
              "<Figure size 600x400 with 1 Axes>"
            ],
            "image/png": "[encoded data removed]"
          },
          "metadata": {}
        }
      ]
    },
    {
      "cell_type": "markdown",
      "metadata": {
        "id": "lFW3P9etdKtE"
      },
      "source": [
        "## Задача 14"
      ]
    },
    {
      "cell_type": "markdown",
      "source": [
        "Теперь постройте гистограмму распределения числа открытых кредитных линий (`NumberOfOpenCreditLinesAndLoans`) с помощью функции `distplot()` из модуля `seaborn`.\n",
        "\n",
        "Подпишите оси, добавьте сетку на графики, дайте графику название:"
      ],
      "metadata": {
        "id": "GC3HuIKVfivh"
      }
    },
    {
      "cell_type": "code",
      "metadata": {
        "id": "vm36okVzdKtF"
      },
      "source": [
        "# distplot()\n",
        "# https://seaborn.pydata.org/tutorial/introduction.html"
      ],
      "execution_count": null,
      "outputs": []
    },
    {
      "cell_type": "code",
      "source": [
        "# sorted(df[\"NumberOfOpenCreditLinesAndLoans\"], reverse = True)"
      ],
      "metadata": {
        "id": "8Q1rHwdhE84t"
      },
      "execution_count": null,
      "outputs": []
    },
    {
      "cell_type": "code",
      "source": [
        "# Посмотрим на выборку по полю NumberOfOpenCreditLinesAndLoans\n",
        "df[\"NumberOfOpenCreditLinesAndLoans\"].max()\n",
        "df[\"NumberOfOpenCreditLinesAndLoans\"].value_counts().head(10)\n",
        "df[\"NumberOfOpenCreditLinesAndLoans\"].value_counts().tail(10)"
      ],
      "metadata": {
        "colab": {
          "base_uri": "https://localhost:8080/"
        },
        "id": "Iiejq53gEY1u",
        "outputId": "7d736acb-1265-438d-8442-e7b9035c1fbe"
      },
      "execution_count": null,
      "outputs": [
        {
          "output_type": "execute_result",
          "data": {
            "text/plain": [
              "52    3\n",
              "46    3\n",
              "57    2\n",
              "51    2\n",
              "56    2\n",
              "47    2\n",
              "50    2\n",
              "44    2\n",
              "58    1\n",
              "53    1\n",
              "Name: NumberOfOpenCreditLinesAndLoans, dtype: int64"
            ]
          },
          "metadata": {},
          "execution_count": 220
        }
      ]
    },
    {
      "cell_type": "code",
      "source": [
        "# построим график распределения по числу кредитных линий (\"NumberOfOpenCreditLinesAndLoans\")\n",
        "# испльзуем флаг density (плотность) в displot\n",
        "\n",
        "import pandas as pd\n",
        "import matplotlib.pyplot as plt\n",
        "import seaborn as sns\n",
        "\n",
        "# Apply the default theme\n",
        "# sns.set_theme()\n",
        "\n",
        "# не смог разместить график в область с figsize=(6,8)!\n",
        "#fig, ax = plt.subplots()\n",
        "#plt.figure(figsize=(6,8))\n",
        "\n",
        "g = sns.displot(data=df, stat=\"density\",  x=\"NumberOfOpenCreditLinesAndLoans\",  bins=60, kde=True);\n",
        "# задавать размеры графика для библиотеки seaborn, похоже, нужно так:\n",
        "g.fig.set_figwidth(10)\n",
        "g.fig.set_figheight(6)\n",
        "\n",
        "plt.xlabel('Число кредитных линий, шт.')\n",
        "plt.ylabel('Частота')\n",
        "\n",
        "plt.show()"
      ],
      "metadata": {
        "colab": {
          "base_uri": "https://localhost:8080/",
          "height": 430
        },
        "id": "ZVMHXSHQC7Fg",
        "outputId": "842d3480-4524-4968-ce28-bfd592113995"
      },
      "execution_count": null,
      "outputs": [
        {
          "output_type": "display_data",
          "data": {
            "text/plain": [
              "<Figure size 720x432 with 1 Axes>"
            ],
            "image/png": "[encoded data removed]"
          },
          "metadata": {
            "needs_background": "light"
          }
        }
      ]
    },
    {
      "cell_type": "code",
      "source": [
        "# для cравнения построим график распределения по возрастам заемщиков (\"age\")\n",
        "\n",
        "import pandas as pd\n",
        "import matplotlib.pyplot as plt\n",
        "import seaborn as sns\n",
        "\n",
        "g = sns.displot(data=df, stat=\"density\", x=\"age\",  bins=10, kde=True );\n",
        "g.fig.set_figwidth(10)\n",
        "g.fig.set_figheight(6)\n",
        "\n",
        "plt.xlabel('Возраст, лет')\n",
        "plt.ylabel('Частота')\n",
        "\n",
        "plt.show()"
      ],
      "metadata": {
        "colab": {
          "base_uri": "https://localhost:8080/",
          "height": 430
        },
        "id": "PrWRe_ttNwTs",
        "outputId": "c414fbb6-5608-4fa1-ef4b-2f6c682ec73d"
      },
      "execution_count": null,
      "outputs": [
        {
          "output_type": "display_data",
          "data": {
            "text/plain": [
              "<Figure size 720x432 with 1 Axes>"
            ],
            "image/png": "[encoded data removed]"
          },
          "metadata": {
            "needs_background": "light"
          }
        }
      ]
    },
    {
      "cell_type": "markdown",
      "metadata": {
        "id": "CzQrvJ68dKtF"
      },
      "source": [
        "## Задача 15"
      ]
    },
    {
      "cell_type": "markdown",
      "source": [
        "Постройте гистограмму распределения признака `NumberOfDependents` для заемщиков, которые успешно вернули кредит (`defaulted = 0`).\n",
        "\n",
        "Подпишите оси, добавьте сетку на графики, дайте графику название:"
      ],
      "metadata": {
        "id": "qnue6fFJfpSK"
      }
    },
    {
      "cell_type": "code",
      "metadata": {
        "id": "081qlJDbdKtF",
        "colab": {
          "base_uri": "https://localhost:8080/"
        },
        "outputId": "44d6635b-8613-43a7-89d7-189da830ad4f"
      },
      "source": [
        "# определем массив-выборку для построения графика\n",
        "df[df['defaulted'] == 0]['NumberOfDependents']\n",
        "# посмотрим на распределение в форме таблицы\n",
        "df[df['defaulted'] == 0]['NumberOfDependents'].value_counts()"
      ],
      "execution_count": null,
      "outputs": [
        {
          "output_type": "execute_result",
          "data": {
            "text/plain": [
              "0.0     81807\n",
              "1.0     24381\n",
              "2.0     17938\n",
              "3.0      8646\n",
              "4.0      2565\n",
              "5.0       678\n",
              "6.0       134\n",
              "7.0        46\n",
              "8.0        22\n",
              "10.0        5\n",
              "9.0         5\n",
              "20.0        1\n",
              "13.0        1\n",
              "Name: NumberOfDependents, dtype: int64"
            ]
          },
          "metadata": {},
          "execution_count": 223
        }
      ]
    },
    {
      "cell_type": "code",
      "source": [
        "# построим график распределения с bins=20 \n",
        "# (максимальное число по NumberOfDependents в выборке = 20)\n",
        "\n",
        "import pandas as pd\n",
        "import matplotlib.pyplot as plt\n",
        "import seaborn as sns\n",
        "\n",
        "dx = pd.DataFrame(df[df['defaulted'] == 0])  #['NumberOfDependents']\n",
        "# dx = df[df['defaulted'] == 0]\n",
        "\n",
        "g = sns.displot(data=dx, x=\"NumberOfDependents\",  bins=20  );\n",
        "g.fig.set_figwidth(10)\n",
        "g.fig.set_figheight(6)\n",
        "\n",
        "plt.xlabel('Число иждивенцев, чел.')\n",
        "plt.ylabel('Число заемщиков, чел.')\n",
        "\n",
        "plt.show()"
      ],
      "metadata": {
        "colab": {
          "base_uri": "https://localhost:8080/",
          "height": 430
        },
        "id": "xnqBds8oLpc2",
        "outputId": "37430873-8d31-45d2-a401-590d4abf6dc0"
      },
      "execution_count": null,
      "outputs": [
        {
          "output_type": "display_data",
          "data": {
            "text/plain": [
              "<Figure size 720x432 with 1 Axes>"
            ],
            "image/png": "[encoded data removed]"
          },
          "metadata": {
            "needs_background": "light"
          }
        }
      ]
    },
    {
      "cell_type": "markdown",
      "metadata": {
        "id": "nDEgPKhPdKtF"
      },
      "source": [
        "## Задача 16"
      ]
    },
    {
      "cell_type": "markdown",
      "source": [
        "Вычислите среднее значение признака `NumberOfDependents` для каждого возраста (`groupby` по возрасту и `mean` от столбца `NumberOfDependents`) и постройте гистограмму распределения полученных значений (`plot.bar()`).\n",
        "\n",
        "Сделайте график покрупнее, например 14 на 10 дюймов с помощью параметра `figsize`.\n",
        "\n",
        "Подпишите оси, добавьте сетку на графики, дайте графику название."
      ],
      "metadata": {
        "id": "4C48yggdftxb"
      }
    },
    {
      "cell_type": "code",
      "source": [
        "# график ПОСЛЕ коррекции\n",
        "# среднее значение признака для каждого возраста ('age')\n",
        "df.head()\n",
        "number_age = df.groupby('age')\n",
        "result_number_age = number_age['NumberOfDependents'].mean()\n",
        "result_number_age"
      ],
      "metadata": {
        "colab": {
          "base_uri": "https://localhost:8080/"
        },
        "id": "UtV-ji8eacCd",
        "outputId": "54121b9c-74f5-4a1b-a928-fcd6e1ba2379"
      },
      "execution_count": null,
      "outputs": [
        {
          "output_type": "execute_result",
          "data": {
            "text/plain": [
              "age\n",
              "0      2.000000\n",
              "21     0.032895\n",
              "22     0.042929\n",
              "23     0.113523\n",
              "24     0.130263\n",
              "         ...   \n",
              "102    0.333333\n",
              "103    0.000000\n",
              "105         NaN\n",
              "107    0.000000\n",
              "109         NaN\n",
              "Name: NumberOfDependents, Length: 86, dtype: float64"
            ]
          },
          "metadata": {},
          "execution_count": 225
        }
      ]
    },
    {
      "cell_type": "code",
      "source": [
        "# Импортируем модуль для визуализации данных\n",
        "from matplotlib import pyplot as plt\n",
        "import numpy as np\n",
        "\n",
        "x = np.array(result_number_age.keys())\n",
        "y = np.array(result_number_age)\n",
        "fig = plt.figure(\n",
        "    figsize=(8,5),  \n",
        "    facecolor='whitesmoke',  \n",
        "    dpi=100\n",
        ")\n",
        "\n",
        "plt.suptitle('Число иждивенцев по возрастным группам заемщиков', fontsize=12)\n",
        "plt.xlabel('Возраст заемщиков')\n",
        "plt.ylabel('Число иждивенцев')\n",
        "plt.bar(x, y)\n",
        "plt.grid(color = 'gray', linestyle = '--', linewidth = 0.5)\n",
        "plt.show()"
      ],
      "metadata": {
        "colab": {
          "base_uri": "https://localhost:8080/",
          "height": 504
        },
        "id": "7HQO_5ZPePh_",
        "outputId": "da384c16-700c-49e6-cc56-4fc3413e848b"
      },
      "execution_count": null,
      "outputs": [
        {
          "output_type": "display_data",
          "data": {
            "text/plain": [
              "<Figure size 800x500 with 1 Axes>"
            ],
            "image/png": "[encoded data removed]"
          },
          "metadata": {}
        }
      ]
    },
    {
      "cell_type": "markdown",
      "source": [
        "**Вывод: Очевидно, что имеется аномальные выборосы для возраста \"0 лет\" и для \"102 лет\"**\n"
      ],
      "metadata": {
        "id": "PU97VVnOgElG"
      }
    },
    {
      "cell_type": "code",
      "source": [
        "# первоначальный график ДО коррекции\n",
        "# среднее значение признака по возрастным группам 1, 2, 3 ('age_group')\n",
        "df.head()\n",
        "number = df.groupby('age_group')\n",
        "number"
      ],
      "metadata": {
        "colab": {
          "base_uri": "https://localhost:8080/"
        },
        "id": "7BAvBv245Sqm",
        "outputId": "2c0f5443-6d12-4c6f-b52f-4a7c79627cb0"
      },
      "execution_count": null,
      "outputs": [
        {
          "output_type": "execute_result",
          "data": {
            "text/plain": [
              "<pandas.core.groupby.generic.DataFrameGroupBy object at 0x7ff66e1fe750>"
            ]
          },
          "metadata": {},
          "execution_count": 227
        }
      ]
    },
    {
      "cell_type": "code",
      "metadata": {
        "id": "A0QhpgqadKtG"
      },
      "source": [
        "df.head()\n",
        "number = df.groupby('age_group')"
      ],
      "execution_count": null,
      "outputs": []
    },
    {
      "cell_type": "code",
      "source": [
        "# посмотрим содержимое сгруппированного датафрейма\n",
        "#for name, group in number:\n",
        "#    print(name)\n",
        "#    print(group)"
      ],
      "metadata": {
        "id": "CI7aSpmcfRZ2"
      },
      "execution_count": null,
      "outputs": []
    },
    {
      "cell_type": "code",
      "source": [
        "result_number = number['NumberOfDependents'].mean()\n",
        "result_number"
      ],
      "metadata": {
        "colab": {
          "base_uri": "https://localhost:8080/"
        },
        "id": "k3G0NQRjfvIA",
        "outputId": "6dab282e-b9a8-4224-c1db-f5d381d2bf25"
      },
      "execution_count": null,
      "outputs": [
        {
          "output_type": "execute_result",
          "data": {
            "text/plain": [
              "age_group\n",
              "группа 1    0.333269\n",
              "группа 2    1.170353\n",
              "группа 3    0.499390\n",
              "Name: NumberOfDependents, dtype: float64"
            ]
          },
          "metadata": {},
          "execution_count": 230
        }
      ]
    },
    {
      "cell_type": "code",
      "source": [
        "# Импортируем модуль для визуализации данных\n",
        "from matplotlib import pyplot as plt\n",
        "import numpy as np\n",
        "\n",
        "x = np.array(['группа 1', 'группа 2', 'группа 3'])\n",
        "y = np.array(result_number)\n",
        "fig = plt.figure(\n",
        "    figsize=(6,4),  \n",
        "    facecolor='whitesmoke',  \n",
        "    dpi=100\n",
        ")\n",
        "\n",
        "plt.suptitle('Число иждивенцев по возрастным группам заемщиков', fontsize=12)\n",
        "plt.xlabel('Возрастные группы')\n",
        "plt.ylabel('Число иждивенцев')\n",
        "plt.bar(x, y)\n",
        "plt.grid(color = 'gray', linestyle = '--', linewidth = 0.5)\n",
        "plt.show()"
      ],
      "metadata": {
        "colab": {
          "base_uri": "https://localhost:8080/",
          "height": 430
        },
        "id": "esaxGWuAgyDt",
        "outputId": "9bcb5f43-41bb-4eac-ec45-d53f69b4ea13"
      },
      "execution_count": null,
      "outputs": [
        {
          "output_type": "display_data",
          "data": {
            "text/plain": [
              "<Figure size 600x400 with 1 Axes>"
            ],
            "image/png": "[encoded data removed]"
          },
          "metadata": {}
        }
      ]
    },
    {
      "cell_type": "code",
      "source": [
        "# агрегированный график выше не позволил увидеть аномальные выбросы "
      ],
      "metadata": {
        "id": "B_9dIFDhbDPg"
      },
      "execution_count": null,
      "outputs": []
    },
    {
      "cell_type": "markdown",
      "metadata": {
        "id": "EuUZjHsDdKtG"
      },
      "source": [
        "## Задача 17"
      ]
    },
    {
      "cell_type": "markdown",
      "source": [
        "Видите ли вы теперь какие-то аномалии в данных? Определите, что это за аномалии, и очистите данные от этих аномалий. Затем снова постройте такой же график, как в предыдущем задании, только уже на датафрейме с очищенными выбросами:"
      ],
      "metadata": {
        "id": "vvpx4bOzf3e8"
      }
    },
    {
      "cell_type": "code",
      "metadata": {
        "id": "nWCx_9NEdKtG",
        "colab": {
          "base_uri": "https://localhost:8080/"
        },
        "outputId": "9f83e0ea-c8ae-4749-a23b-61c43154b76f"
      },
      "source": [
        "# Очевидно, что имеется аномальные выборосы для возраста \"0 лет\" и для \"102 лет\"\n",
        "number_age = df.groupby('age')\n",
        "result_number_age = number_age['NumberOfDependents'].mean()\n",
        "result_number_age\n"
      ],
      "execution_count": null,
      "outputs": [
        {
          "output_type": "execute_result",
          "data": {
            "text/plain": [
              "age\n",
              "0      2.000000\n",
              "21     0.032895\n",
              "22     0.042929\n",
              "23     0.113523\n",
              "24     0.130263\n",
              "         ...   \n",
              "102    0.333333\n",
              "103    0.000000\n",
              "105         NaN\n",
              "107    0.000000\n",
              "109         NaN\n",
              "Name: NumberOfDependents, Length: 86, dtype: float64"
            ]
          },
          "metadata": {},
          "execution_count": 233
        }
      ]
    },
    {
      "cell_type": "code",
      "source": [
        "result_number_age"
      ],
      "metadata": {
        "colab": {
          "base_uri": "https://localhost:8080/"
        },
        "id": "IrABrrcIj4NI",
        "outputId": "631917b0-65d9-43d1-e9bd-732be931eb07"
      },
      "execution_count": null,
      "outputs": [
        {
          "output_type": "execute_result",
          "data": {
            "text/plain": [
              "age\n",
              "0      2.000000\n",
              "21     0.032895\n",
              "22     0.042929\n",
              "23     0.113523\n",
              "24     0.130263\n",
              "         ...   \n",
              "102    0.333333\n",
              "103    0.000000\n",
              "105         NaN\n",
              "107    0.000000\n",
              "109         NaN\n",
              "Name: NumberOfDependents, Length: 86, dtype: float64"
            ]
          },
          "metadata": {},
          "execution_count": 234
        }
      ]
    },
    {
      "cell_type": "code",
      "source": [
        "# создадим новую выборку\n",
        "result_number_age_new = result_number_age[:]\n",
        "id(result_number_age_new) == id(result_number_age)\n",
        "result_number_age_new is result_number_age"
      ],
      "metadata": {
        "colab": {
          "base_uri": "https://localhost:8080/"
        },
        "id": "vudcGpLZhZL1",
        "outputId": "50179f86-2537-4e8f-ff82-c66b7cdadb94"
      },
      "execution_count": null,
      "outputs": [
        {
          "output_type": "execute_result",
          "data": {
            "text/plain": [
              "False"
            ]
          },
          "metadata": {},
          "execution_count": 244
        }
      ]
    },
    {
      "cell_type": "code",
      "source": [
        "# обнулим аномальные значения признака для \"0 лет\" и \"102 лет\"\n",
        "result_number_age_new[0] = 0\n",
        "result_number_age_new[102] = 0\n",
        "# устраним возраст \"0 лет\" из выборки\n",
        "result_number_age_new = result_number_age_new[1:]\n",
        "result_number_age_new"
      ],
      "metadata": {
        "colab": {
          "base_uri": "https://localhost:8080/"
        },
        "id": "LgCX0QZJj8Lr",
        "outputId": "1772419f-f343-40a0-b5ed-6667126aefac"
      },
      "execution_count": null,
      "outputs": [
        {
          "output_type": "execute_result",
          "data": {
            "text/plain": [
              "age\n",
              "21     0.032895\n",
              "22     0.042929\n",
              "23     0.113523\n",
              "24     0.130263\n",
              "25     0.218922\n",
              "         ...   \n",
              "102    0.000000\n",
              "103    0.000000\n",
              "105         NaN\n",
              "107    0.000000\n",
              "109         NaN\n",
              "Name: NumberOfDependents, Length: 85, dtype: float64"
            ]
          },
          "metadata": {},
          "execution_count": 245
        }
      ]
    },
    {
      "cell_type": "code",
      "source": [
        "from matplotlib import pyplot as plt\n",
        "import numpy as np\n",
        "\n",
        "x = np.array(result_number_age_new.keys())\n",
        "y = np.array(result_number_age_new)\n",
        "fig = plt.figure(\n",
        "    figsize=(8,5),  \n",
        "    facecolor='whitesmoke',  \n",
        "    dpi=100\n",
        ")\n",
        "\n",
        "plt.suptitle('Число иждивенцев по возрастным группам заёмщиков', fontsize=12)\n",
        "plt.xlabel('Возраст заёмщиков')\n",
        "plt.ylabel('Среднее число иждивенцев')\n",
        "plt.bar(x, y)\n",
        "plt.grid(color = 'gray', linestyle = '--', linewidth = 0.5)\n",
        "plt.show()"
      ],
      "metadata": {
        "colab": {
          "base_uri": "https://localhost:8080/",
          "height": 510
        },
        "id": "l9zjD12CiTGK",
        "outputId": "3b231c3d-417f-4952-c29f-5a9a66da1c30"
      },
      "execution_count": null,
      "outputs": [
        {
          "output_type": "display_data",
          "data": {
            "text/plain": [
              "<Figure size 800x500 with 1 Axes>"
            ],
            "image/png": "[encoded data removed]"
          },
          "metadata": {}
        }
      ]
    }
  ]
}